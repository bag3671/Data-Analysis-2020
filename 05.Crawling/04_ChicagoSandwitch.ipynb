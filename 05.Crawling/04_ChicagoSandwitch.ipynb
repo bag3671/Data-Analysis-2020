{
 "metadata": {
  "language_info": {
   "codemirror_mode": {
    "name": "ipython",
    "version": 3
   },
   "file_extension": ".py",
   "mimetype": "text/x-python",
   "name": "python",
   "nbconvert_exporter": "python",
   "pygments_lexer": "ipython3",
   "version": "3.8.3-final"
  },
  "orig_nbformat": 2,
  "kernelspec": {
   "name": "python3",
   "display_name": "Python 3"
  }
 },
 "nbformat": 4,
 "nbformat_minor": 2,
 "cells": [
  {
   "source": [
    "# 시카고 샌드위치 맛집 분석"
   ],
   "cell_type": "markdown",
   "metadata": {}
  },
  {
   "source": [
    "### 1. 시카고 샌드위치 맛집 사이트에 접근하기"
   ],
   "cell_type": "markdown",
   "metadata": {}
  },
  {
   "cell_type": "code",
   "execution_count": 2,
   "metadata": {},
   "outputs": [],
   "source": [
    "from bs4 import BeautifulSoup \n",
    "from urllib.request import urlopen"
   ]
  },
  {
   "cell_type": "code",
   "execution_count": 3,
   "metadata": {},
   "outputs": [],
   "source": [
    "url_base = 'http://www.chicagomag.com'\n",
    "url_sub = '/Chicago-Magazine/November-2012/Best-Sandwiches-Chicago/'\n",
    "url = url_base + url_sub\n",
    "\n",
    "html = urlopen(url)\n",
    "soup = BeautifulSoup(html, 'html.parser')"
   ]
  },
  {
   "cell_type": "code",
   "execution_count": 5,
   "metadata": {},
   "outputs": [
    {
     "output_type": "execute_result",
     "data": {
      "text/plain": [
       "<div class=\"sammy\" style=\"position: relative;\">\n",
       "<div class=\"sammyRank\">1</div>\n",
       "<div class=\"sammyListing\"><a href=\"/Chicago-Magazine/November-2012/Best-Sandwiches-in-Chicago-Old-Oak-Tap-BLT/\"><b>BLT</b><br>\n",
       "Old Oak Tap<br>\n",
       "<em>Read more</em> </br></br></a></div>\n",
       "</div>"
      ]
     },
     "metadata": {},
     "execution_count": 5
    }
   ],
   "source": [
    "rest_list = soup.select('.sammy')\n",
    "rest_list[0]"
   ]
  },
  {
   "cell_type": "code",
   "execution_count": 6,
   "metadata": {},
   "outputs": [
    {
     "output_type": "execute_result",
     "data": {
      "text/plain": [
       "50"
      ]
     },
     "metadata": {},
     "execution_count": 6
    }
   ],
   "source": [
    "len(rest_list)"
   ]
  },
  {
   "source": [
    "### 2. 접근한 웹 페이지에서 원하는 데이터 추출하고 정리하기"
   ],
   "cell_type": "markdown",
   "metadata": {}
  },
  {
   "cell_type": "code",
   "execution_count": 7,
   "metadata": {},
   "outputs": [
    {
     "output_type": "execute_result",
     "data": {
      "text/plain": [
       "'1'"
      ]
     },
     "metadata": {},
     "execution_count": 7
    }
   ],
   "source": [
    "rank = rest_list[0].select_one('.sammyRank').string\n",
    "rank"
   ]
  },
  {
   "cell_type": "code",
   "execution_count": 22,
   "metadata": {},
   "outputs": [
    {
     "output_type": "execute_result",
     "data": {
      "text/plain": [
       "'http://www.chicagomag.com/Chicago-Magazine/November-2012/Best-Sandwiches-in-Chicago-Lula-Cafe-Ham-and-Raclette-Panino/'"
      ]
     },
     "metadata": {},
     "execution_count": 22
    }
   ],
   "source": [
    "from urllib.parse import urljoin\n",
    "url = urljoin(url_base, rest_list[10].find('a')['href'])\n",
    "url"
   ]
  },
  {
   "cell_type": "code",
   "execution_count": 10,
   "metadata": {},
   "outputs": [
    {
     "output_type": "execute_result",
     "data": {
      "text/plain": [
       "'BLT\\r\\nOld Oak Tap\\nRead more '"
      ]
     },
     "metadata": {},
     "execution_count": 10
    }
   ],
   "source": [
    "tmp = rest_list[0].find('a').get_text()\n",
    "tmp"
   ]
  },
  {
   "cell_type": "code",
   "execution_count": 11,
   "metadata": {},
   "outputs": [
    {
     "output_type": "execute_result",
     "data": {
      "text/plain": [
       "['BLT\\r', 'Old Oak Tap', 'Read more ']"
      ]
     },
     "metadata": {},
     "execution_count": 11
    }
   ],
   "source": [
    "tmp.split('\\n')"
   ]
  },
  {
   "cell_type": "code",
   "execution_count": 13,
   "metadata": {},
   "outputs": [
    {
     "output_type": "execute_result",
     "data": {
      "text/plain": [
       "('BLT', 'Old Oak Tap')"
      ]
     },
     "metadata": {},
     "execution_count": 13
    }
   ],
   "source": [
    "menu = tmp.split('\\n')[0].replace('\\r', '')\n",
    "cafe = tmp.split('\\n')[1]\n",
    "menu, cafe"
   ]
  },
  {
   "cell_type": "code",
   "execution_count": 26,
   "metadata": {},
   "outputs": [],
   "source": [
    "rank_list = []; url_list = []; menu_list = []; cafe_list = []\n",
    "for rest in rest_list:\n",
    "    rank = int(rest.select_one('.sammyRank').string)\n",
    "    url = urljoin(url_base, rest.find('a')['href'])\n",
    "    tmp = rest.find('a').get_text().split('\\n')\n",
    "    menu = tmp[0].replace('\\r', '')\n",
    "    cafe = tmp[1]\n",
    "    rank_list.append(rank)\n",
    "    url_list.append(url)\n",
    "    menu_list.append(menu)\n",
    "    cafe_list.append(cafe)"
   ]
  },
  {
   "cell_type": "code",
   "execution_count": 27,
   "metadata": {},
   "outputs": [
    {
     "output_type": "execute_result",
     "data": {
      "text/plain": [
       "   Rank                    Cafe               Menu  \\\n",
       "0     1             Old Oak Tap                BLT   \n",
       "1     2               Au Cheval      Fried Bologna   \n",
       "2     3                    Xoco  Woodland Mushroom   \n",
       "3     4               Al’s Deli         Roast Beef   \n",
       "4     5  Publican Quality Meats               PB&L   \n",
       "\n",
       "                                                 URL  \n",
       "0  http://www.chicagomag.com/Chicago-Magazine/Nov...  \n",
       "1  http://www.chicagomag.com/Chicago-Magazine/Nov...  \n",
       "2  http://www.chicagomag.com/Chicago-Magazine/Nov...  \n",
       "3  http://www.chicagomag.com/Chicago-Magazine/Nov...  \n",
       "4  http://www.chicagomag.com/Chicago-Magazine/Nov...  "
      ],
      "text/html": "<div>\n<style scoped>\n    .dataframe tbody tr th:only-of-type {\n        vertical-align: middle;\n    }\n\n    .dataframe tbody tr th {\n        vertical-align: top;\n    }\n\n    .dataframe thead th {\n        text-align: right;\n    }\n</style>\n<table border=\"1\" class=\"dataframe\">\n  <thead>\n    <tr style=\"text-align: right;\">\n      <th></th>\n      <th>Rank</th>\n      <th>Cafe</th>\n      <th>Menu</th>\n      <th>URL</th>\n    </tr>\n  </thead>\n  <tbody>\n    <tr>\n      <th>0</th>\n      <td>1</td>\n      <td>Old Oak Tap</td>\n      <td>BLT</td>\n      <td>http://www.chicagomag.com/Chicago-Magazine/Nov...</td>\n    </tr>\n    <tr>\n      <th>1</th>\n      <td>2</td>\n      <td>Au Cheval</td>\n      <td>Fried Bologna</td>\n      <td>http://www.chicagomag.com/Chicago-Magazine/Nov...</td>\n    </tr>\n    <tr>\n      <th>2</th>\n      <td>3</td>\n      <td>Xoco</td>\n      <td>Woodland Mushroom</td>\n      <td>http://www.chicagomag.com/Chicago-Magazine/Nov...</td>\n    </tr>\n    <tr>\n      <th>3</th>\n      <td>4</td>\n      <td>Al’s Deli</td>\n      <td>Roast Beef</td>\n      <td>http://www.chicagomag.com/Chicago-Magazine/Nov...</td>\n    </tr>\n    <tr>\n      <th>4</th>\n      <td>5</td>\n      <td>Publican Quality Meats</td>\n      <td>PB&amp;L</td>\n      <td>http://www.chicagomag.com/Chicago-Magazine/Nov...</td>\n    </tr>\n  </tbody>\n</table>\n</div>"
     },
     "metadata": {},
     "execution_count": 27
    }
   ],
   "source": [
    "import pandas as pd \n",
    "df = pd.DataFrame({\n",
    "    'Rank': rank_list,\n",
    "    'Cafe': cafe_list,\n",
    "    'Menu': menu_list,\n",
    "    'URL': url_list\n",
    "})\n",
    "df.head()"
   ]
  },
  {
   "cell_type": "code",
   "execution_count": 28,
   "metadata": {},
   "outputs": [],
   "source": [
    "df.to_csv('chicago.csv', sep=',', encoding='utf8')"
   ]
  },
  {
   "source": [
    "### 3. 다수의 웹 페이지에 자동으로 접근해서 원하는 정보 가져오기"
   ],
   "cell_type": "markdown",
   "metadata": {}
  },
  {
   "cell_type": "code",
   "execution_count": 29,
   "metadata": {},
   "outputs": [],
   "source": [
    "html = urlopen(df['URL'][0])\n",
    "soup_tmp = BeautifulSoup(html, 'html.parser')"
   ]
  },
  {
   "cell_type": "code",
   "execution_count": 31,
   "metadata": {},
   "outputs": [
    {
     "output_type": "execute_result",
     "data": {
      "text/plain": [
       "<p class=\"addy\">\n",
       "<em>$10. 2109 W. Chicago Ave., 773-772-0406, <a href=\"http://www.theoldoaktap.com/\">theoldoaktap.com</a></em></p>"
      ]
     },
     "metadata": {},
     "execution_count": 31
    }
   ],
   "source": [
    "soup_tmp.select_one('.addy')"
   ]
  },
  {
   "cell_type": "code",
   "execution_count": 33,
   "metadata": {},
   "outputs": [
    {
     "output_type": "execute_result",
     "data": {
      "text/plain": [
       "'\\n$10. 2109 W. Chicago Ave., 773-772-0406, theoldoaktap.com'"
      ]
     },
     "metadata": {},
     "execution_count": 33
    }
   ],
   "source": [
    "soup_tmp.select_one('.addy').get_text()"
   ]
  },
  {
   "cell_type": "code",
   "execution_count": 44,
   "metadata": {},
   "outputs": [
    {
     "output_type": "execute_result",
     "data": {
      "text/plain": [
       "3"
      ]
     },
     "metadata": {},
     "execution_count": 44
    }
   ],
   "source": [
    "tmp = soup_tmp.select_one('.addy').get_text().split(',')\n",
    "len(tmp)"
   ]
  },
  {
   "cell_type": "code",
   "execution_count": 45,
   "metadata": {},
   "outputs": [
    {
     "output_type": "execute_result",
     "data": {
      "text/plain": [
       "'\\n$6.85. 3351 N. Broadway'"
      ]
     },
     "metadata": {},
     "execution_count": 45
    }
   ],
   "source": [
    "tmp[0]"
   ]
  },
  {
   "cell_type": "code",
   "execution_count": 52,
   "metadata": {},
   "outputs": [
    {
     "output_type": "execute_result",
     "data": {
      "text/plain": [
       "'$6.85'"
      ]
     },
     "metadata": {},
     "execution_count": 52
    }
   ],
   "source": [
    "price = tmp[0].split()[0][:-1]\n",
    "price"
   ]
  },
  {
   "cell_type": "code",
   "execution_count": 51,
   "metadata": {},
   "outputs": [
    {
     "output_type": "execute_result",
     "data": {
      "text/plain": [
       "'3351 N. Broadway'"
      ]
     },
     "metadata": {},
     "execution_count": 51
    }
   ],
   "source": [
    "addr = ' '.join(tmp[0].split()[1:])\n",
    "addr"
   ]
  },
  {
   "cell_type": "code",
   "execution_count": 50,
   "metadata": {},
   "outputs": [
    {
     "output_type": "execute_result",
     "data": {
      "text/plain": [
       "'773-868-4000'"
      ]
     },
     "metadata": {},
     "execution_count": 50
    }
   ],
   "source": [
    "tmp[1].strip()"
   ]
  },
  {
   "cell_type": "code",
   "execution_count": 40,
   "metadata": {},
   "outputs": [],
   "source": [
    "from tqdm import tqdm_notebook"
   ]
  },
  {
   "cell_type": "code",
   "execution_count": 59,
   "metadata": {},
   "outputs": [
    {
     "output_type": "display_data",
     "data": {
      "text/plain": "HBox(children=(FloatProgress(value=0.0, max=50.0), HTML(value='')))",
      "application/vnd.jupyter.widget-view+json": {
       "version_major": 2,
       "version_minor": 0,
       "model_id": "6a265e8515e44d94999afe3473d26002"
      }
     },
     "metadata": {}
    },
    {
     "output_type": "stream",
     "name": "stdout",
     "text": [
      "\n"
     ]
    }
   ],
   "source": [
    "rank_list = []; url_list = []; menu_list = []; cafe_list = []\n",
    "price_list = []; addr_list = []; tel_list = []; hp_list = []\n",
    "for rest in tqdm_notebook(rest_list):\n",
    "    rank = int(rest.select_one('.sammyRank').string)\n",
    "    url = urljoin(url_base, rest.find('a')['href'])\n",
    "    tmp = rest.find('a').get_text().split('\\n')\n",
    "    menu = tmp[0].replace('\\r', '')\n",
    "    cafe = tmp[1]\n",
    "    rank_list.append(rank)\n",
    "    url_list.append(url)\n",
    "    menu_list.append(menu)\n",
    "    cafe_list.append(cafe)\n",
    "\n",
    "    html = urlopen(url)\n",
    "    soup_tmp = BeautifulSoup(html, 'html.parser')\n",
    "    tmp = soup_tmp.select_one('.addy').get_text().split(',')\n",
    "    price = tmp[0].split()[0][:-1]\n",
    "    price_list.append(price)\n",
    "    addr = ' '.join(tmp[0].split()[1:])\n",
    "    if len(tmp) == 1:\n",
    "        addr_list.append(addr)\n",
    "        tel_list.append(' ')\n",
    "        hp_list.append(' ')\n",
    "    elif len(tmp) == 2:\n",
    "        if addr.find('Multiple') >= 0:\n",
    "            addr_list.append(' ')\n",
    "            tel_list.append(' ')\n",
    "            hp_list.append(tmp[1])\n",
    "        else:\n",
    "            addr_list.append(addr)\n",
    "            tel_list.append(tmp[1].strip())\n",
    "            hp_list.append(' ')\n",
    "    elif len(tmp) == 3:\n",
    "        addr_list.append(addr)\n",
    "        tel_list.append(tmp[1].strip())\n",
    "        hp_list.append(tmp[2])\n",
    "    elif len(tmp) == 4:\n",
    "        addr += ', ' + tmp[1]\n",
    "        addr_list.append(addr)\n",
    "        tel_list.append(tmp[2].strip())\n",
    "        hp_list.append(tmp[3])"
   ]
  },
  {
   "cell_type": "code",
   "execution_count": 60,
   "metadata": {},
   "outputs": [
    {
     "output_type": "execute_result",
     "data": {
      "text/plain": [
       "   Rank                    Cafe               Menu  Price  \\\n",
       "0     1             Old Oak Tap                BLT    $10   \n",
       "1     2               Au Cheval      Fried Bologna     $9   \n",
       "2     3                    Xoco  Woodland Mushroom  $9.50   \n",
       "3     4               Al’s Deli         Roast Beef  $9.40   \n",
       "4     5  Publican Quality Meats               PB&L    $10   \n",
       "\n",
       "                    Address     Telephone                  Home Page  \n",
       "0      2109 W. Chicago Ave.  773-772-0406           theoldoaktap.com  \n",
       "1       800 W. Randolph St.  312-929-4580        aucheval.tumblr.com  \n",
       "2          445 N. Clark St.  312-334-3688            rickbayless.com  \n",
       "3  914 Noyes St.,  Evanston  847-475-9400                alsdeli.net  \n",
       "4        825 W. Fulton Mkt.  312-445-8977   publicanqualitymeats.com  "
      ],
      "text/html": "<div>\n<style scoped>\n    .dataframe tbody tr th:only-of-type {\n        vertical-align: middle;\n    }\n\n    .dataframe tbody tr th {\n        vertical-align: top;\n    }\n\n    .dataframe thead th {\n        text-align: right;\n    }\n</style>\n<table border=\"1\" class=\"dataframe\">\n  <thead>\n    <tr style=\"text-align: right;\">\n      <th></th>\n      <th>Rank</th>\n      <th>Cafe</th>\n      <th>Menu</th>\n      <th>Price</th>\n      <th>Address</th>\n      <th>Telephone</th>\n      <th>Home Page</th>\n    </tr>\n  </thead>\n  <tbody>\n    <tr>\n      <th>0</th>\n      <td>1</td>\n      <td>Old Oak Tap</td>\n      <td>BLT</td>\n      <td>$10</td>\n      <td>2109 W. Chicago Ave.</td>\n      <td>773-772-0406</td>\n      <td>theoldoaktap.com</td>\n    </tr>\n    <tr>\n      <th>1</th>\n      <td>2</td>\n      <td>Au Cheval</td>\n      <td>Fried Bologna</td>\n      <td>$9</td>\n      <td>800 W. Randolph St.</td>\n      <td>312-929-4580</td>\n      <td>aucheval.tumblr.com</td>\n    </tr>\n    <tr>\n      <th>2</th>\n      <td>3</td>\n      <td>Xoco</td>\n      <td>Woodland Mushroom</td>\n      <td>$9.50</td>\n      <td>445 N. Clark St.</td>\n      <td>312-334-3688</td>\n      <td>rickbayless.com</td>\n    </tr>\n    <tr>\n      <th>3</th>\n      <td>4</td>\n      <td>Al’s Deli</td>\n      <td>Roast Beef</td>\n      <td>$9.40</td>\n      <td>914 Noyes St.,  Evanston</td>\n      <td>847-475-9400</td>\n      <td>alsdeli.net</td>\n    </tr>\n    <tr>\n      <th>4</th>\n      <td>5</td>\n      <td>Publican Quality Meats</td>\n      <td>PB&amp;L</td>\n      <td>$10</td>\n      <td>825 W. Fulton Mkt.</td>\n      <td>312-445-8977</td>\n      <td>publicanqualitymeats.com</td>\n    </tr>\n  </tbody>\n</table>\n</div>"
     },
     "metadata": {},
     "execution_count": 60
    }
   ],
   "source": [
    "df2 = pd.DataFrame({\n",
    "    'Rank': rank_list,\n",
    "    'Cafe': cafe_list,\n",
    "    'Menu': menu_list,\n",
    "    'Price': price_list,\n",
    "    'Address': addr_list,\n",
    "    'Telephone': tel_list,\n",
    "    'Home Page': hp_list\n",
    "})\n",
    "df2.head()"
   ]
  },
  {
   "cell_type": "code",
   "execution_count": 61,
   "metadata": {},
   "outputs": [],
   "source": [
    "df2.to_csv('chicago2.csv', sep=',', encoding='utf8')"
   ]
  },
  {
   "source": [
    "### 3. 맛집 위치를 지도에 표기하기"
   ],
   "cell_type": "markdown",
   "metadata": {}
  },
  {
   "cell_type": "code",
   "execution_count": 64,
   "metadata": {},
   "outputs": [],
   "source": [
    "import numpy as np\n",
    "import folium\n",
    "import googlemaps"
   ]
  },
  {
   "cell_type": "code",
   "execution_count": 65,
   "metadata": {},
   "outputs": [],
   "source": [
    "key_fd = open('googlemapskey.txt', mode='r')\n",
    "gmaps_key = key_fd.read(100)\n",
    "key_fd.close()"
   ]
  },
  {
   "cell_type": "code",
   "execution_count": 67,
   "metadata": {},
   "outputs": [],
   "source": [
    "gmaps = googlemaps.Client(key=gmaps_key)"
   ]
  },
  {
   "cell_type": "code",
   "execution_count": 69,
   "metadata": {},
   "outputs": [
    {
     "output_type": "display_data",
     "data": {
      "text/plain": "HBox(children=(FloatProgress(value=0.0, max=50.0), HTML(value='')))",
      "application/vnd.jupyter.widget-view+json": {
       "version_major": 2,
       "version_minor": 0,
       "model_id": "0b141766e02547b9a39e468be0fa637d"
      }
     },
     "metadata": {}
    },
    {
     "output_type": "stream",
     "name": "stdout",
     "text": [
      "\n"
     ]
    }
   ],
   "source": [
    "lat = []\n",
    "lng = []\n",
    "\n",
    "for n in tqdm_notebook(df2.index):\n",
    "    if df2['Address'][n].find(' ') != 0:\n",
    "        target_name = df2['Address'][n]+', '+'Chicago'\n",
    "        gmaps_output = gmaps.geocode(target_name)\n",
    "        location_output = gmaps_output[0].get('geometry')\n",
    "        lat.append(location_output['location']['lat'])\n",
    "        lng.append(location_output['location']['lng'])\n",
    "    else:\n",
    "        lat.append(np.nan)\n",
    "        lng.append(np.nan)"
   ]
  },
  {
   "cell_type": "code",
   "execution_count": 71,
   "metadata": {},
   "outputs": [
    {
     "output_type": "stream",
     "name": "stdout",
     "text": [
      "[41.8956049, 41.8846582, 41.8905226, 42.0583217, 41.8866036, 41.9002501, 41.8590541, 41.9102031, 41.9097558, 41.8345302, 41.9276207, nan, 41.9384419, 41.9451044, 41.930109, 41.89129000000001, 41.8678529, 41.8852691, 41.9080539, 41.91369539999999, 41.9537106, nan, 41.9794496, 41.9541563, nan, 42.156691, nan, 41.9652987, 41.90272179999999, 41.8893683, nan, 41.9105258, 41.8896188, 41.91504990000001, 41.9218521, 41.9797099, 41.9617122, 41.89296119999999, nan, 41.9047551, 41.7913185, 42.2518352, 41.9152875, 41.8863622, 41.8758102, 41.8960738, 41.89897850000001, 41.9105832, 41.8831061, 41.9431632]\n"
     ]
    }
   ],
   "source": [
    "print(lat)"
   ]
  },
  {
   "cell_type": "code",
   "execution_count": 75,
   "metadata": {},
   "outputs": [
    {
     "output_type": "execute_result",
     "data": {
      "text/plain": [
       "   Rank                    Cafe               Menu  Price  \\\n",
       "0     1             Old Oak Tap                BLT    $10   \n",
       "1     2               Au Cheval      Fried Bologna     $9   \n",
       "2     3                    Xoco  Woodland Mushroom  $9.50   \n",
       "3     4               Al’s Deli         Roast Beef  $9.40   \n",
       "4     5  Publican Quality Meats               PB&L    $10   \n",
       "\n",
       "                    Address     Telephone                  Home Page  \\\n",
       "0      2109 W. Chicago Ave.  773-772-0406           theoldoaktap.com   \n",
       "1       800 W. Randolph St.  312-929-4580        aucheval.tumblr.com   \n",
       "2          445 N. Clark St.  312-334-3688            rickbayless.com   \n",
       "3  914 Noyes St.,  Evanston  847-475-9400                alsdeli.net   \n",
       "4        825 W. Fulton Mkt.  312-445-8977   publicanqualitymeats.com   \n",
       "\n",
       "   Lattitude  Longitude  \n",
       "0  41.895605 -87.679961  \n",
       "1  41.884658 -87.647667  \n",
       "2  41.890523 -87.630783  \n",
       "3  42.058322 -87.683748  \n",
       "4  41.886604 -87.648536  "
      ],
      "text/html": "<div>\n<style scoped>\n    .dataframe tbody tr th:only-of-type {\n        vertical-align: middle;\n    }\n\n    .dataframe tbody tr th {\n        vertical-align: top;\n    }\n\n    .dataframe thead th {\n        text-align: right;\n    }\n</style>\n<table border=\"1\" class=\"dataframe\">\n  <thead>\n    <tr style=\"text-align: right;\">\n      <th></th>\n      <th>Rank</th>\n      <th>Cafe</th>\n      <th>Menu</th>\n      <th>Price</th>\n      <th>Address</th>\n      <th>Telephone</th>\n      <th>Home Page</th>\n      <th>Lattitude</th>\n      <th>Longitude</th>\n    </tr>\n  </thead>\n  <tbody>\n    <tr>\n      <th>0</th>\n      <td>1</td>\n      <td>Old Oak Tap</td>\n      <td>BLT</td>\n      <td>$10</td>\n      <td>2109 W. Chicago Ave.</td>\n      <td>773-772-0406</td>\n      <td>theoldoaktap.com</td>\n      <td>41.895605</td>\n      <td>-87.679961</td>\n    </tr>\n    <tr>\n      <th>1</th>\n      <td>2</td>\n      <td>Au Cheval</td>\n      <td>Fried Bologna</td>\n      <td>$9</td>\n      <td>800 W. Randolph St.</td>\n      <td>312-929-4580</td>\n      <td>aucheval.tumblr.com</td>\n      <td>41.884658</td>\n      <td>-87.647667</td>\n    </tr>\n    <tr>\n      <th>2</th>\n      <td>3</td>\n      <td>Xoco</td>\n      <td>Woodland Mushroom</td>\n      <td>$9.50</td>\n      <td>445 N. Clark St.</td>\n      <td>312-334-3688</td>\n      <td>rickbayless.com</td>\n      <td>41.890523</td>\n      <td>-87.630783</td>\n    </tr>\n    <tr>\n      <th>3</th>\n      <td>4</td>\n      <td>Al’s Deli</td>\n      <td>Roast Beef</td>\n      <td>$9.40</td>\n      <td>914 Noyes St.,  Evanston</td>\n      <td>847-475-9400</td>\n      <td>alsdeli.net</td>\n      <td>42.058322</td>\n      <td>-87.683748</td>\n    </tr>\n    <tr>\n      <th>4</th>\n      <td>5</td>\n      <td>Publican Quality Meats</td>\n      <td>PB&amp;L</td>\n      <td>$10</td>\n      <td>825 W. Fulton Mkt.</td>\n      <td>312-445-8977</td>\n      <td>publicanqualitymeats.com</td>\n      <td>41.886604</td>\n      <td>-87.648536</td>\n    </tr>\n  </tbody>\n</table>\n</div>"
     },
     "metadata": {},
     "execution_count": 75
    }
   ],
   "source": [
    "df2['Lattitude'] = lat\n",
    "df2['Longitude'] = lng\n",
    "df2.head()"
   ]
  },
  {
   "cell_type": "code",
   "execution_count": 76,
   "metadata": {},
   "outputs": [
    {
     "output_type": "execute_result",
     "data": {
      "text/plain": [
       "<folium.folium.Map at 0x1daf1134220>"
      ],
      "text/html": "<div style=\"width:100%;\"><div style=\"position:relative;width:100%;height:0;padding-bottom:60%;\"><span style=\"color:#565656\">Make this Notebook Trusted to load map: File -> Trust Notebook</span><iframe src=\"about:blank\" style=\"position:absolute;width:100%;height:100%;left:0;top:0;border:none !important;\" data-html=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 onload=\"this.contentDocument.open();this.contentDocument.write(atob(this.getAttribute('data-html')));this.contentDocument.close();\" allowfullscreen webkitallowfullscreen mozallowfullscreen></iframe></div></div>"
     },
     "metadata": {},
     "execution_count": 76
    }
   ],
   "source": [
    "mapping = folium.Map(location=[df2['Lattitude'].mean(), \n",
    "                            df2['Longitude'].mean()], zoom_start=11)\n",
    "folium.Marker([df2['Lattitude'].mean(), df2['Longitude'].mean()], \n",
    "                                      popup='center').add_to(mapping)\n",
    "mapping"
   ]
  },
  {
   "cell_type": "code",
   "execution_count": 77,
   "metadata": {},
   "outputs": [
    {
     "output_type": "execute_result",
     "data": {
      "text/plain": [
       "<folium.folium.Map at 0x1daf0d370d0>"
      ],
      "text/html": "<div style=\"width:100%;\"><div style=\"position:relative;width:100%;height:0;padding-bottom:60%;\"><span style=\"color:#565656\">Make this Notebook Trusted to load map: File -> Trust Notebook</span><iframe src=\"about:blank\" style=\"position:absolute;width:100%;height:100%;left:0;top:0;border:none !important;\" data-html=PCFET0NUWVBFIGh0bWw+CjxoZWFkPiAgICAKICAgIDxtZXRhIGh0dHAtZXF1aXY9ImNvbnRlbnQtdHlwZSIgY29udGVudD0idGV4dC9odG1sOyBjaGFyc2V0PVVURi04IiAvPgogICAgCiAgICAgICAgPHNjcmlwdD4KICAgICAgICAgICAgTF9OT19UT1VDSCA9IGZhbHNlOwogICAgICAgICAgICBMX0RJU0FCTEVfM0QgPSBmYWxzZTsKICAgICAgICA8L3NjcmlwdD4KICAgIAogICAgPHNjcmlwdCBzcmM9Imh0dHBzOi8vY2RuLmpzZGVsaXZyLm5ldC9ucG0vbGVhZmxldEAxLjYuMC9kaXN0L2xlYWZsZXQuanMiPjwvc2NyaXB0PgogICAgPHNjcmlwdCBzcmM9Imh0dHBzOi8vY29kZS5qcXVlcnkuY29tL2pxdWVyeS0xLjEyLjQubWluLmpzIj48L3NjcmlwdD4KICAgIDxzY3JpcHQgc3JjPSJodHRwczovL21heGNkbi5ib290c3RyYXBjZG4uY29tL2Jvb3RzdHJhcC8zLjIuMC9qcy9ib290c3RyYXAubWluLmpzIj48L3NjcmlwdD4KICAgIDxzY3JpcHQgc3JjPSJodHRwczovL2NkbmpzLmNsb3VkZmxhcmUuY29tL2FqYXgvbGlicy9MZWFmbGV0LmF3ZXNvbWUtbWFya2Vycy8yLjAuMi9sZWFmbGV0LmF3ZXNvbWUtbWFya2Vycy5qcyI+PC9zY3JpcHQ+CiAgICA8bGluayByZWw9InN0eWxlc2hlZXQiIGhyZWY9Imh0dHBzOi8vY2RuLmpzZGVsaXZyLm5ldC9ucG0vbGVhZmxldEAxLjYuMC9kaXN0L2xlYWZsZXQuY3NzIi8+CiAgICA8bGluayByZWw9InN0eWxlc2hlZXQiIGhyZWY9Imh0dHBzOi8vbWF4Y2RuLmJvb3RzdHJhcGNkbi5jb20vYm9vdHN0cmFwLzMuMi4wL2Nzcy9ib290c3RyYXAubWluLmNzcyIvPgogICAgPGxpbmsgcmVsPSJzdHlsZXNoZWV0IiBocmVmPSJodHRwczovL21heGNkbi5ib290c3RyYXBjZG4uY29tL2Jvb3RzdHJhcC8zLjIuMC9jc3MvYm9vdHN0cmFwLXRoZW1lLm1pbi5jc3MiLz4KICAgIDxsaW5rIHJlbD0ic3R5bGVzaGVldCIgaHJlZj0iaHR0cHM6Ly9tYXhjZG4uYm9vdHN0cmFwY2RuLmNvbS9mb250LWF3ZXNvbWUvNC42LjMvY3NzL2ZvbnQtYXdlc29tZS5taW4uY3NzIi8+CiAgICA8bGluayByZWw9InN0eWxlc2hlZXQiIGhyZWY9Imh0dHBzOi8vY2RuanMuY2xvdWRmbGFyZS5jb20vYWpheC9saWJzL0xlYWZsZXQuYXdlc29tZS1tYXJrZXJzLzIuMC4yL2xlYWZsZXQuYXdlc29tZS1tYXJrZXJzLmNzcyIvPgogICAgPGxpbmsgcmVsPSJzdHlsZXNoZWV0IiBocmVmPSJodHRwczovL3Jhd2Nkbi5naXRoYWNrLmNvbS9weXRob24tdmlzdWFsaXphdGlvbi9mb2xpdW0vbWFzdGVyL2ZvbGl1bS90ZW1wbGF0ZXMvbGVhZmxldC5hd2Vzb21lLnJvdGF0ZS5jc3MiLz4KICAgIDxzdHlsZT5odG1sLCBib2R5IHt3aWR0aDogMTAwJTtoZWlnaHQ6IDEwMCU7bWFyZ2luOiAwO3BhZGRpbmc6IDA7fTwvc3R5bGU+CiAgICA8c3R5bGU+I21hcCB7cG9zaXRpb246YWJzb2x1dGU7dG9wOjA7Ym90dG9tOjA7cmlnaHQ6MDtsZWZ0OjA7fTwvc3R5bGU+CiAgICAKICAgICAgICAgICAgPG1ldGEgbmFtZT0idmlld3BvcnQiIGNvbnRlbnQ9IndpZHRoPWRldmljZS13aWR0aCwKICAgICAgICAgICAgICAgIGluaXRpYWwtc2NhbGU9MS4wLCBtYXhpbXVtLXNjYWxlPTEuMCwgdXNlci1zY2FsYWJsZT1ubyIgLz4KICAgICAgICAgICAgPHN0eWxlPgogICAgICAgICAgICAgICAgI21hcF8zMTkzYTU1OTdjOTY0YzhhOTczNDZiZGM1MTg0ZTMyNyB7CiAgICAgICAgICAgICAgICAgICAgcG9zaXRpb246IHJlbGF0aXZlOwogICAgICAgICAgICAgICAgICAgIHdpZHRoOiAxMDAuMCU7CiAgICAgICAgICAgICAgICAgICAgaGVpZ2h0OiAxMDAuMCU7CiAgICAgICAgICAgICAgICAgICAgbGVmdDogMC4wJTsKICAgICAgICAgICAgICAgICAgICB0b3A6IDAuMCU7CiAgICAgICAgICAgICAgICB9CiAgICAgICAgICAgIDwvc3R5bGU+CiAgICAgICAgCjwvaGVhZD4KPGJvZHk+ICAgIAogICAgCiAgICAgICAgICAgIDxkaXYgY2xhc3M9ImZvbGl1bS1tYXAiIGlkPSJtYXBfMzE5M2E1NTk3Yzk2NGM4YTk3MzQ2YmRjNTE4NGUzMjciID48L2Rpdj4KICAgICAgICAKPC9ib2R5Pgo8c2NyaXB0PiAgICAKICAgIAogICAgICAgICAgICB2YXIgbWFwXzMxOTNhNTU5N2M5NjRjOGE5NzM0NmJkYzUxODRlMzI3ID0gTC5tYXAoCiAgICAgICAgICAgICAgICAibWFwXzMxOTNhNTU5N2M5NjRjOGE5NzM0NmJkYzUxODRlMzI3IiwKICAgICAgICAgICAgICAgIHsKICAgICAgICAgICAgICAgICAgICBjZW50ZXI6IFs0MS45MjQyNTA5Mzg2MzYzNywgLTg3LjY4MDk4NDk2MzYzNjMzXSwKICAgICAgICAgICAgICAgICAgICBjcnM6IEwuQ1JTLkVQU0czODU3LAogICAgICAgICAgICAgICAgICAgIHpvb206IDExLAogICAgICAgICAgICAgICAgICAgIHpvb21Db250cm9sOiB0cnVlLAogICAgICAgICAgICAgICAgICAgIHByZWZlckNhbnZhczogZmFsc2UsCiAgICAgICAgICAgICAgICB9CiAgICAgICAgICAgICk7CgogICAgICAgICAgICAKCiAgICAgICAgCiAgICAKICAgICAgICAgICAgdmFyIHRpbGVfbGF5ZXJfYTE1ZmQ2NzM0YjVjNDk3OThhZTY2ZjM0M2YwMDE5MzAgPSBMLnRpbGVMYXllcigKICAgICAgICAgICAgICAgICJodHRwczovL3tzfS50aWxlLm9wZW5zdHJlZXRtYXAub3JnL3t6fS97eH0ve3l9LnBuZyIsCiAgICAgICAgICAgICAgICB7ImF0dHJpYnV0aW9uIjogIkRhdGEgYnkgXHUwMDI2Y29weTsgXHUwMDNjYSBocmVmPVwiaHR0cDovL29wZW5zdHJlZXRtYXAub3JnXCJcdTAwM2VPcGVuU3RyZWV0TWFwXHUwMDNjL2FcdTAwM2UsIHVuZGVyIFx1MDAzY2EgaHJlZj1cImh0dHA6Ly93d3cub3BlbnN0cmVldG1hcC5vcmcvY29weXJpZ2h0XCJcdTAwM2VPRGJMXHUwMDNjL2FcdTAwM2UuIiwgImRldGVjdFJldGluYSI6IGZhbHNlLCAibWF4TmF0aXZlWm9vbSI6IDE4LCAibWF4Wm9vbSI6IDE4LCAibWluWm9vbSI6IDAsICJub1dyYXAiOiBmYWxzZSwgIm9wYWNpdHkiOiAxLCAic3ViZG9tYWlucyI6ICJhYmMiLCAidG1zIjogZmFsc2V9CiAgICAgICAgICAgICkuYWRkVG8obWFwXzMxOTNhNTU5N2M5NjRjOGE5NzM0NmJkYzUxODRlMzI3KTsKICAgICAgICAKICAgIAogICAgICAgICAgICB2YXIgbWFya2VyX2QyOTI5MzQ4ODRiYTRkMWI5ZTcwNjUyOTQzNzJjM2ZlID0gTC5tYXJrZXIoCiAgICAgICAgICAgICAgICBbNDEuODk1NjA0OSwgLTg3LjY3OTk2MTQ5OTk5OTk5XSwKICAgICAgICAgICAgICAgIHt9CiAgICAgICAgICAgICkuYWRkVG8obWFwXzMxOTNhNTU5N2M5NjRjOGE5NzM0NmJkYzUxODRlMzI3KTsKICAgICAgICAKICAgIAogICAgICAgIHZhciBwb3B1cF8wNmVlNDFhZWZjYWQ0NGI0OTUyZGZhNDk2MTYwMGY0OCA9IEwucG9wdXAoeyJtYXhXaWR0aCI6ICIxMDAlIn0pOwoKICAgICAgICAKICAgICAgICAgICAgdmFyIGh0bWxfNzM5YTVkYzlhMTViNDI2N2IxMTc3MzI4OTk1ZmUzZTAgPSAkKGA8ZGl2IGlkPSJodG1sXzczOWE1ZGM5YTE1YjQyNjdiMTE3NzMyODk5NWZlM2UwIiBzdHlsZT0id2lkdGg6IDEwMC4wJTsgaGVpZ2h0OiAxMDAuMCU7Ij5PbGQgT2FrIFRhcDwvZGl2PmApWzBdOwogICAgICAgICAgICBwb3B1cF8wNmVlNDFhZWZjYWQ0NGI0OTUyZGZhNDk2MTYwMGY0OC5zZXRDb250ZW50KGh0bWxfNzM5YTVkYzlhMTViNDI2N2IxMTc3MzI4OTk1ZmUzZTApOwogICAgICAgIAoKICAgICAgICBtYXJrZXJfZDI5MjkzNDg4NGJhNGQxYjllNzA2NTI5NDM3MmMzZmUuYmluZFBvcHVwKHBvcHVwXzA2ZWU0MWFlZmNhZDQ0YjQ5NTJkZmE0OTYxNjAwZjQ4KQogICAgICAgIDsKCiAgICAgICAgCiAgICAKICAgIAogICAgICAgICAgICB2YXIgbWFya2VyX2QwZThjYTJjMjM4MzRiMmQ5OTk1NjUxZjI0Mjk1NjA4ID0gTC5tYXJrZXIoCiAgICAgICAgICAgICAgICBbNDEuODg0NjU4MiwgLTg3LjY0NzY2NjhdLAogICAgICAgICAgICAgICAge30KICAgICAgICAgICAgKS5hZGRUbyhtYXBfMzE5M2E1NTk3Yzk2NGM4YTk3MzQ2YmRjNTE4NGUzMjcpOwogICAgICAgIAogICAgCiAgICAgICAgdmFyIHBvcHVwX2YxNTMzMjc1NDQ3ZjQyOGU4ZmU4NTVhMDAwYzZhOGU4ID0gTC5wb3B1cCh7Im1heFdpZHRoIjogIjEwMCUifSk7CgogICAgICAgIAogICAgICAgICAgICB2YXIgaHRtbF9iYzVkYmYyYmE2Mzk0OGQ4ODRiNjFiMmZhN2IzMjE1NiA9ICQoYDxkaXYgaWQ9Imh0bWxfYmM1ZGJmMmJhNjM5NDhkODg0YjYxYjJmYTdiMzIxNTYiIHN0eWxlPSJ3aWR0aDogMTAwLjAlOyBoZWlnaHQ6IDEwMC4wJTsiPkF1IENoZXZhbDwvZGl2PmApWzBdOwogICAgICAgICAgICBwb3B1cF9mMTUzMzI3NTQ0N2Y0MjhlOGZlODU1YTAwMGM2YThlOC5zZXRDb250ZW50KGh0bWxfYmM1ZGJmMmJhNjM5NDhkODg0YjYxYjJmYTdiMzIxNTYpOwogICAgICAgIAoKICAgICAgICBtYXJrZXJfZDBlOGNhMmMyMzgzNGIyZDk5OTU2NTFmMjQyOTU2MDguYmluZFBvcHVwKHBvcHVwX2YxNTMzMjc1NDQ3ZjQyOGU4ZmU4NTVhMDAwYzZhOGU4KQogICAgICAgIDsKCiAgICAgICAgCiAgICAKICAgIAogICAgICAgICAgICB2YXIgbWFya2VyXzA3NTdhNjM5ZjM4YjQzNWJiNzg1ODA2ZGYyYThmZjA3ID0gTC5tYXJrZXIoCiAgICAgICAgICAgICAgICBbNDEuODkwNTIyNiwgLTg3LjYzMDc4MzRdLAogICAgICAgICAgICAgICAge30KICAgICAgICAgICAgKS5hZGRUbyhtYXBfMzE5M2E1NTk3Yzk2NGM4YTk3MzQ2YmRjNTE4NGUzMjcpOwogICAgICAgIAogICAgCiAgICAgICAgdmFyIHBvcHVwXzk4ZjE1MTI1YTkxZDQ3YjI4ZGQwMWU1N2RhNWE5YjE1ID0gTC5wb3B1cCh7Im1heFdpZHRoIjogIjEwMCUifSk7CgogICAgICAgIAogICAgICAgICAgICB2YXIgaHRtbF8wNzU5OGMyY2FmOWI0ODkyYTU3MWVhYTBiZTdlNTBkZSA9ICQoYDxkaXYgaWQ9Imh0bWxfMDc1OThjMmNhZjliNDg5MmE1NzFlYWEwYmU3ZTUwZGUiIHN0eWxlPSJ3aWR0aDogMTAwLjAlOyBoZWlnaHQ6IDEwMC4wJTsiPlhvY288L2Rpdj5gKVswXTsKICAgICAgICAgICAgcG9wdXBfOThmMTUxMjVhOTFkNDdiMjhkZDAxZTU3ZGE1YTliMTUuc2V0Q29udGVudChodG1sXzA3NTk4YzJjYWY5YjQ4OTJhNTcxZWFhMGJlN2U1MGRlKTsKICAgICAgICAKCiAgICAgICAgbWFya2VyXzA3NTdhNjM5ZjM4YjQzNWJiNzg1ODA2ZGYyYThmZjA3LmJpbmRQb3B1cChwb3B1cF85OGYxNTEyNWE5MWQ0N2IyOGRkMDFlNTdkYTVhOWIxNSkKICAgICAgICA7CgogICAgICAgIAogICAgCiAgICAKICAgICAgICAgICAgdmFyIG1hcmtlcl9kYzgxODNkNDNkODM0YWFiOWM0ODAwNDg4ZDVlNzJlMyA9IEwubWFya2VyKAogICAgICAgICAgICAgICAgWzQyLjA1ODMyMTcsIC04Ny42ODM3NDc5XSwKICAgICAgICAgICAgICAgIHt9CiAgICAgICAgICAgICkuYWRkVG8obWFwXzMxOTNhNTU5N2M5NjRjOGE5NzM0NmJkYzUxODRlMzI3KTsKICAgICAgICAKICAgIAogICAgICAgIHZhciBwb3B1cF9kM2Y5NjJjYWVjZjM0ZGYxOWU2OGU0NjMzZWI0MDYyZCA9IEwucG9wdXAoeyJtYXhXaWR0aCI6ICIxMDAlIn0pOwoKICAgICAgICAKICAgICAgICAgICAgdmFyIGh0bWxfZTY5MGUwZDNhM2ZlNDZlZTk1ZTI2NWIxMzBkOTRhMTAgPSAkKGA8ZGl2IGlkPSJodG1sX2U2OTBlMGQzYTNmZTQ2ZWU5NWUyNjViMTMwZDk0YTEwIiBzdHlsZT0id2lkdGg6IDEwMC4wJTsgaGVpZ2h0OiAxMDAuMCU7Ij5BbOKAmXMgRGVsaTwvZGl2PmApWzBdOwogICAgICAgICAgICBwb3B1cF9kM2Y5NjJjYWVjZjM0ZGYxOWU2OGU0NjMzZWI0MDYyZC5zZXRDb250ZW50KGh0bWxfZTY5MGUwZDNhM2ZlNDZlZTk1ZTI2NWIxMzBkOTRhMTApOwogICAgICAgIAoKICAgICAgICBtYXJrZXJfZGM4MTgzZDQzZDgzNGFhYjljNDgwMDQ4OGQ1ZTcyZTMuYmluZFBvcHVwKHBvcHVwX2QzZjk2MmNhZWNmMzRkZjE5ZTY4ZTQ2MzNlYjQwNjJkKQogICAgICAgIDsKCiAgICAgICAgCiAgICAKICAgIAogICAgICAgICAgICB2YXIgbWFya2VyXzI3NzIyMzg4YzZiNTRhYjg5MjFkOTgxMTcwMDNmNDZhID0gTC5tYXJrZXIoCiAgICAgICAgICAgICAgICBbNDEuODg2NjAzNiwgLTg3LjY0ODUzNjQ5OTk5OTk5XSwKICAgICAgICAgICAgICAgIHt9CiAgICAgICAgICAgICkuYWRkVG8obWFwXzMxOTNhNTU5N2M5NjRjOGE5NzM0NmJkYzUxODRlMzI3KTsKICAgICAgICAKICAgIAogICAgICAgIHZhciBwb3B1cF85YzdiMDNlZDZhMDc0MzJjYmNjMmI0YjBlMWY0Zjg2NSA9IEwucG9wdXAoeyJtYXhXaWR0aCI6ICIxMDAlIn0pOwoKICAgICAgICAKICAgICAgICAgICAgdmFyIGh0bWxfZjM4ZmQzZDAwYWNlNDM2ZWIwNjYxNjBmZTU1YjdiZTggPSAkKGA8ZGl2IGlkPSJodG1sX2YzOGZkM2QwMGFjZTQzNmViMDY2MTYwZmU1NWI3YmU4IiBzdHlsZT0id2lkdGg6IDEwMC4wJTsgaGVpZ2h0OiAxMDAuMCU7Ij5QdWJsaWNhbiBRdWFsaXR5IE1lYXRzPC9kaXY+YClbMF07CiAgICAgICAgICAgIHBvcHVwXzljN2IwM2VkNmEwNzQzMmNiY2MyYjRiMGUxZjRmODY1LnNldENvbnRlbnQoaHRtbF9mMzhmZDNkMDBhY2U0MzZlYjA2NjE2MGZlNTViN2JlOCk7CiAgICAgICAgCgogICAgICAgIG1hcmtlcl8yNzcyMjM4OGM2YjU0YWI4OTIxZDk4MTE3MDAzZjQ2YS5iaW5kUG9wdXAocG9wdXBfOWM3YjAzZWQ2YTA3NDMyY2JjYzJiNGIwZTFmNGY4NjUpCiAgICAgICAgOwoKICAgICAgICAKICAgIAogICAgCiAgICAgICAgICAgIHZhciBtYXJrZXJfYjI2YzBjM2UxODBmNGQzYWIyOGZiM2JkODk4OWMyYWEgPSBMLm1hcmtlcigKICAgICAgICAgICAgICAgIFs0MS45MDAyNTAxLCAtODcuNjI1MDc4MV0sCiAgICAgICAgICAgICAgICB7fQogICAgICAgICAgICApLmFkZFRvKG1hcF8zMTkzYTU1OTdjOTY0YzhhOTczNDZiZGM1MTg0ZTMyNyk7CiAgICAgICAgCiAgICAKICAgICAgICB2YXIgcG9wdXBfNDEzZmQ5ODQ5NGQzNDJhYmJmYjg4MmJjNGRjYzMyN2EgPSBMLnBvcHVwKHsibWF4V2lkdGgiOiAiMTAwJSJ9KTsKCiAgICAgICAgCiAgICAgICAgICAgIHZhciBodG1sX2VjNDdmZWFlODY4MDRkMjBiMjc4N2VhYzJkNjFlMjY0ID0gJChgPGRpdiBpZD0iaHRtbF9lYzQ3ZmVhZTg2ODA0ZDIwYjI3ODdlYWMyZDYxZTI2NCIgc3R5bGU9IndpZHRoOiAxMDAuMCU7IGhlaWdodDogMTAwLjAlOyI+SGVuZHJpY2t4IEJlbGdpYW4gQnJlYWQgQ3JhZnRlcjwvZGl2PmApWzBdOwogICAgICAgICAgICBwb3B1cF80MTNmZDk4NDk0ZDM0MmFiYmZiODgyYmM0ZGNjMzI3YS5zZXRDb250ZW50KGh0bWxfZWM0N2ZlYWU4NjgwNGQyMGIyNzg3ZWFjMmQ2MWUyNjQpOwogICAgICAgIAoKICAgICAgICBtYXJrZXJfYjI2YzBjM2UxODBmNGQzYWIyOGZiM2JkODk4OWMyYWEuYmluZFBvcHVwKHBvcHVwXzQxM2ZkOTg0OTRkMzQyYWJiZmI4ODJiYzRkY2MzMjdhKQogICAgICAgIDsKCiAgICAgICAgCiAgICAKICAgIAogICAgICAgICAgICB2YXIgbWFya2VyXzY1OGVmNGRmODM4MTQ5Mzk5ZjVmOWYxOWQ3NzFlZWMyID0gTC5tYXJrZXIoCiAgICAgICAgICAgICAgICBbNDEuODU5MDU0MSwgLTg3LjYyNTIwMDddLAogICAgICAgICAgICAgICAge30KICAgICAgICAgICAgKS5hZGRUbyhtYXBfMzE5M2E1NTk3Yzk2NGM4YTk3MzQ2YmRjNTE4NGUzMjcpOwogICAgICAgIAogICAgCiAgICAgICAgdmFyIHBvcHVwXzE1MTU5MzM2ZDMyYzRiNTdiZDg5YTdiYmFiZmJkZGI2ID0gTC5wb3B1cCh7Im1heFdpZHRoIjogIjEwMCUifSk7CgogICAgICAgIAogICAgICAgICAgICB2YXIgaHRtbF9hNzk2MDI2MjA4NDY0YTQ2OWU1ZDdiN2EyMWEyYjQzMiA9ICQoYDxkaXYgaWQ9Imh0bWxfYTc5NjAyNjIwODQ2NGE0NjllNWQ3YjdhMjFhMmI0MzIiIHN0eWxlPSJ3aWR0aDogMTAwLjAlOyBoZWlnaHQ6IDEwMC4wJTsiPkFjYWRpYTwvZGl2PmApWzBdOwogICAgICAgICAgICBwb3B1cF8xNTE1OTMzNmQzMmM0YjU3YmQ4OWE3YmJhYmZiZGRiNi5zZXRDb250ZW50KGh0bWxfYTc5NjAyNjIwODQ2NGE0NjllNWQ3YjdhMjFhMmI0MzIpOwogICAgICAgIAoKICAgICAgICBtYXJrZXJfNjU4ZWY0ZGY4MzgxNDkzOTlmNWY5ZjE5ZDc3MWVlYzIuYmluZFBvcHVwKHBvcHVwXzE1MTU5MzM2ZDMyYzRiNTdiZDg5YTdiYmFiZmJkZGI2KQogICAgICAgIDsKCiAgICAgICAgCiAgICAKICAgIAogICAgICAgICAgICB2YXIgbWFya2VyXzQ4MDVhZTAyMjFjYzQ4NzlhNGVlM2Q5NTA0MmMyMmQ1ID0gTC5tYXJrZXIoCiAgICAgICAgICAgICAgICBbNDEuOTEwMjAzMSwgLTg3LjY4Mjg3NTI5OTk5OTk5XSwKICAgICAgICAgICAgICAgIHt9CiAgICAgICAgICAgICkuYWRkVG8obWFwXzMxOTNhNTU5N2M5NjRjOGE5NzM0NmJkYzUxODRlMzI3KTsKICAgICAgICAKICAgIAogICAgICAgIHZhciBwb3B1cF8wMTlmZmZmMGNlNGI0MDdhOTdlZTRiMzAxODkxYTg4YyA9IEwucG9wdXAoeyJtYXhXaWR0aCI6ICIxMDAlIn0pOwoKICAgICAgICAKICAgICAgICAgICAgdmFyIGh0bWxfOGY0MWQ3NTFjZjQ2NGQ0OWE5NjU3MWJlYTNmZDY2MDMgPSAkKGA8ZGl2IGlkPSJodG1sXzhmNDFkNzUxY2Y0NjRkNDlhOTY1NzFiZWEzZmQ2NjAzIiBzdHlsZT0id2lkdGg6IDEwMC4wJTsgaGVpZ2h0OiAxMDAuMCU7Ij5CaXJjaHdvb2QgS2l0Y2hlbjwvZGl2PmApWzBdOwogICAgICAgICAgICBwb3B1cF8wMTlmZmZmMGNlNGI0MDdhOTdlZTRiMzAxODkxYTg4Yy5zZXRDb250ZW50KGh0bWxfOGY0MWQ3NTFjZjQ2NGQ0OWE5NjU3MWJlYTNmZDY2MDMpOwogICAgICAgIAoKICAgICAgICBtYXJrZXJfNDgwNWFlMDIyMWNjNDg3OWE0ZWUzZDk1MDQyYzIyZDUuYmluZFBvcHVwKHBvcHVwXzAxOWZmZmYwY2U0YjQwN2E5N2VlNGIzMDE4OTFhODhjKQogICAgICAgIDsKCiAgICAgICAgCiAgICAKICAgIAogICAgICAgICAgICB2YXIgbWFya2VyX2Y5NzQ4NjI5OGE3ODRiZTc4ZDJkYWQzMTBjNTBkMzk3ID0gTC5tYXJrZXIoCiAgICAgICAgICAgICAgICBbNDEuOTA5NzU1OCwgLTg3LjcxNzY3MjddLAogICAgICAgICAgICAgICAge30KICAgICAgICAgICAgKS5hZGRUbyhtYXBfMzE5M2E1NTk3Yzk2NGM4YTk3MzQ2YmRjNTE4NGUzMjcpOwogICAgICAgIAogICAgCiAgICAgICAgdmFyIHBvcHVwX2MwOTY3ODVjMGU5YTRjNGI4NWEzYThkZmFkMWMxOTE5ID0gTC5wb3B1cCh7Im1heFdpZHRoIjogIjEwMCUifSk7CgogICAgICAgIAogICAgICAgICAgICB2YXIgaHRtbF83YWE3YmRmMGE2MTM0NTVmODg2YWNlYWE5NGQxNDUxYyA9ICQoYDxkaXYgaWQ9Imh0bWxfN2FhN2JkZjBhNjEzNDU1Zjg4NmFjZWFhOTRkMTQ1MWMiIHN0eWxlPSJ3aWR0aDogMTAwLjAlOyBoZWlnaHQ6IDEwMC4wJTsiPkNlbWl0YXMgUHVlYmxhPC9kaXY+YClbMF07CiAgICAgICAgICAgIHBvcHVwX2MwOTY3ODVjMGU5YTRjNGI4NWEzYThkZmFkMWMxOTE5LnNldENvbnRlbnQoaHRtbF83YWE3YmRmMGE2MTM0NTVmODg2YWNlYWE5NGQxNDUxYyk7CiAgICAgICAgCgogICAgICAgIG1hcmtlcl9mOTc0ODYyOThhNzg0YmU3OGQyZGFkMzEwYzUwZDM5Ny5iaW5kUG9wdXAocG9wdXBfYzA5Njc4NWMwZTlhNGM0Yjg1YTNhOGRmYWQxYzE5MTkpCiAgICAgICAgOwoKICAgICAgICAKICAgIAogICAgCiAgICAgICAgICAgIHZhciBtYXJrZXJfY2Y3NWJjZTM1OWNhNDU1ODhmYzZjZTI2ZjRlZWZiMzIgPSBMLm1hcmtlcigKICAgICAgICAgICAgICAgIFs0MS44MzQ1MzAyLCAtODcuNjQ1NjQ5Ml0sCiAgICAgICAgICAgICAgICB7fQogICAgICAgICAgICApLmFkZFRvKG1hcF8zMTkzYTU1OTdjOTY0YzhhOTczNDZiZGM1MTg0ZTMyNyk7CiAgICAgICAgCiAgICAKICAgICAgICB2YXIgcG9wdXBfMjJmYjBmMTMyYTAxNDY3Mzk0ZGQ4M2I1M2RjNWMwZjMgPSBMLnBvcHVwKHsibWF4V2lkdGgiOiAiMTAwJSJ9KTsKCiAgICAgICAgCiAgICAgICAgICAgIHZhciBodG1sXzc1YjEzYTFkZDgyNjQ1YmY4YTk1NzU0YzdkNmE3MzI0ID0gJChgPGRpdiBpZD0iaHRtbF83NWIxM2ExZGQ4MjY0NWJmOGE5NTc1NGM3ZDZhNzMyNCIgc3R5bGU9IndpZHRoOiAxMDAuMCU7IGhlaWdodDogMTAwLjAlOyI+TmFuYTwvZGl2PmApWzBdOwogICAgICAgICAgICBwb3B1cF8yMmZiMGYxMzJhMDE0NjczOTRkZDgzYjUzZGM1YzBmMy5zZXRDb250ZW50KGh0bWxfNzViMTNhMWRkODI2NDViZjhhOTU3NTRjN2Q2YTczMjQpOwogICAgICAgIAoKICAgICAgICBtYXJrZXJfY2Y3NWJjZTM1OWNhNDU1ODhmYzZjZTI2ZjRlZWZiMzIuYmluZFBvcHVwKHBvcHVwXzIyZmIwZjEzMmEwMTQ2NzM5NGRkODNiNTNkYzVjMGYzKQogICAgICAgIDsKCiAgICAgICAgCiAgICAKICAgIAogICAgICAgICAgICB2YXIgbWFya2VyX2U4ODc4MTcwMDA2ZjRjY2JiOGRmNDE5ODFjNTM0ZGZiID0gTC5tYXJrZXIoCiAgICAgICAgICAgICAgICBbNDEuOTI3NjIwNywgLTg3LjcwNjc5Ml0sCiAgICAgICAgICAgICAgICB7fQogICAgICAgICAgICApLmFkZFRvKG1hcF8zMTkzYTU1OTdjOTY0YzhhOTczNDZiZGM1MTg0ZTMyNyk7CiAgICAgICAgCiAgICAKICAgICAgICB2YXIgcG9wdXBfNTMzNjRkM2ZlM2MyNGRmZDkzODlmZjkzYmRlOWY2MGQgPSBMLnBvcHVwKHsibWF4V2lkdGgiOiAiMTAwJSJ9KTsKCiAgICAgICAgCiAgICAgICAgICAgIHZhciBodG1sX2Y1MDBmNmFjY2ZjNTQ0ZWI5NDE0ZGJmYTNhZTcyNTRlID0gJChgPGRpdiBpZD0iaHRtbF9mNTAwZjZhY2NmYzU0NGViOTQxNGRiZmEzYWU3MjU0ZSIgc3R5bGU9IndpZHRoOiAxMDAuMCU7IGhlaWdodDogMTAwLjAlOyI+THVsYSBDYWZlPC9kaXY+YClbMF07CiAgICAgICAgICAgIHBvcHVwXzUzMzY0ZDNmZTNjMjRkZmQ5Mzg5ZmY5M2JkZTlmNjBkLnNldENvbnRlbnQoaHRtbF9mNTAwZjZhY2NmYzU0NGViOTQxNGRiZmEzYWU3MjU0ZSk7CiAgICAgICAgCgogICAgICAgIG1hcmtlcl9lODg3ODE3MDAwNmY0Y2NiYjhkZjQxOTgxYzUzNGRmYi5iaW5kUG9wdXAocG9wdXBfNTMzNjRkM2ZlM2MyNGRmZDkzODlmZjkzYmRlOWY2MGQpCiAgICAgICAgOwoKICAgICAgICAKICAgIAogICAgCiAgICAgICAgICAgIHZhciBtYXJrZXJfNjQ4NDQ0ZmZjZjgyNGMwOGIyZWE4NDhlNzBkZDY5ZjMgPSBMLm1hcmtlcigKICAgICAgICAgICAgICAgIFs0MS45Mzg0NDE5LCAtODcuNjQ0NjQzNjk5OTk5OTldLAogICAgICAgICAgICAgICAge30KICAgICAgICAgICAgKS5hZGRUbyhtYXBfMzE5M2E1NTk3Yzk2NGM4YTk3MzQ2YmRjNTE4NGUzMjcpOwogICAgICAgIAogICAgCiAgICAgICAgdmFyIHBvcHVwX2M5MzFiMzRiMmJjNzQyMThiODk3ZDFmMGI5NzUxMDg4ID0gTC5wb3B1cCh7Im1heFdpZHRoIjogIjEwMCUifSk7CgogICAgICAgIAogICAgICAgICAgICB2YXIgaHRtbF84NzM4ZGI0ODRmMzQ0ZDFhOThjOTc5YzdiZDExNTFlZSA9ICQoYDxkaXYgaWQ9Imh0bWxfODczOGRiNDg0ZjM0NGQxYTk4Yzk3OWM3YmQxMTUxZWUiIHN0eWxlPSJ3aWR0aDogMTAwLjAlOyBoZWlnaHQ6IDEwMC4wJTsiPkZyb2cgbiBTbmFpbDwvZGl2PmApWzBdOwogICAgICAgICAgICBwb3B1cF9jOTMxYjM0YjJiYzc0MjE4Yjg5N2QxZjBiOTc1MTA4OC5zZXRDb250ZW50KGh0bWxfODczOGRiNDg0ZjM0NGQxYTk4Yzk3OWM3YmQxMTUxZWUpOwogICAgICAgIAoKICAgICAgICBtYXJrZXJfNjQ4NDQ0ZmZjZjgyNGMwOGIyZWE4NDhlNzBkZDY5ZjMuYmluZFBvcHVwKHBvcHVwX2M5MzFiMzRiMmJjNzQyMThiODk3ZDFmMGI5NzUxMDg4KQogICAgICAgIDsKCiAgICAgICAgCiAgICAKICAgIAogICAgICAgICAgICB2YXIgbWFya2VyXzgyNjFkYWM2ZGI2MTQ3YmI4ZDM3MjYzMTUyMjMwZmM0ID0gTC5tYXJrZXIoCiAgICAgICAgICAgICAgICBbNDEuOTQ1MTA0NCwgLTg3LjY2MzY4MTJdLAogICAgICAgICAgICAgICAge30KICAgICAgICAgICAgKS5hZGRUbyhtYXBfMzE5M2E1NTk3Yzk2NGM4YTk3MzQ2YmRjNTE4NGUzMjcpOwogICAgICAgIAogICAgCiAgICAgICAgdmFyIHBvcHVwXzc4ZTViMDRlNDIxNjRkNzdiZDhiNmUyN2ZmNGIzMDU0ID0gTC5wb3B1cCh7Im1heFdpZHRoIjogIjEwMCUifSk7CgogICAgICAgIAogICAgICAgICAgICB2YXIgaHRtbF9mMmViZThkODk3MjA0ZWYxOWYyZTQ4YWI3NjNlMzYzMSA9ICQoYDxkaXYgaWQ9Imh0bWxfZjJlYmU4ZDg5NzIwNGVmMTlmMmU0OGFiNzYzZTM2MzEiIHN0eWxlPSJ3aWR0aDogMTAwLjAlOyBoZWlnaHQ6IDEwMC4wJTsiPkNyb3NieeKAmXMgS2l0Y2hlbjwvZGl2PmApWzBdOwogICAgICAgICAgICBwb3B1cF83OGU1YjA0ZTQyMTY0ZDc3YmQ4YjZlMjdmZjRiMzA1NC5zZXRDb250ZW50KGh0bWxfZjJlYmU4ZDg5NzIwNGVmMTlmMmU0OGFiNzYzZTM2MzEpOwogICAgICAgIAoKICAgICAgICBtYXJrZXJfODI2MWRhYzZkYjYxNDdiYjhkMzcyNjMxNTIyMzBmYzQuYmluZFBvcHVwKHBvcHVwXzc4ZTViMDRlNDIxNjRkNzdiZDhiNmUyN2ZmNGIzMDU0KQogICAgICAgIDsKCiAgICAgICAgCiAgICAKICAgIAogICAgICAgICAgICB2YXIgbWFya2VyX2IxMjA3YjFhYzFkNTRiYWFiMDg0ODU5MTc4MTUzY2MzID0gTC5tYXJrZXIoCiAgICAgICAgICAgICAgICBbNDEuOTMwMTA5LCAtODcuNzA3MjQwOF0sCiAgICAgICAgICAgICAgICB7fQogICAgICAgICAgICApLmFkZFRvKG1hcF8zMTkzYTU1OTdjOTY0YzhhOTczNDZiZGM1MTg0ZTMyNyk7CiAgICAgICAgCiAgICAKICAgICAgICB2YXIgcG9wdXBfZTk5ZTRhZGM4NGM4NDZlMGFkZDZhZjQzZjMzOTBiMTUgPSBMLnBvcHVwKHsibWF4V2lkdGgiOiAiMTAwJSJ9KTsKCiAgICAgICAgCiAgICAgICAgICAgIHZhciBodG1sXzMyNzM0YjRiMTA1NDRiM2ViZDA5YTQ1ZTI4NDg1NzE5ID0gJChgPGRpdiBpZD0iaHRtbF8zMjczNGI0YjEwNTQ0YjNlYmQwOWE0NWUyODQ4NTcxOSIgc3R5bGU9IndpZHRoOiAxMDAuMCU7IGhlaWdodDogMTAwLjAlOyI+TG9uZ21hbiAmIEVhZ2xlPC9kaXY+YClbMF07CiAgICAgICAgICAgIHBvcHVwX2U5OWU0YWRjODRjODQ2ZTBhZGQ2YWY0M2YzMzkwYjE1LnNldENvbnRlbnQoaHRtbF8zMjczNGI0YjEwNTQ0YjNlYmQwOWE0NWUyODQ4NTcxOSk7CiAgICAgICAgCgogICAgICAgIG1hcmtlcl9iMTIwN2IxYWMxZDU0YmFhYjA4NDg1OTE3ODE1M2NjMy5iaW5kUG9wdXAocG9wdXBfZTk5ZTRhZGM4NGM4NDZlMGFkZDZhZjQzZjMzOTBiMTUpCiAgICAgICAgOwoKICAgICAgICAKICAgIAogICAgCiAgICAgICAgICAgIHZhciBtYXJrZXJfMmQ3ZmRiN2M5OTRkNGMwZmJjMjVhNzdkZGE3MmUzMjEgPSBMLm1hcmtlcigKICAgICAgICAgICAgICAgIFs0MS44OTEyOTAwMDAwMDAwMSwgLTg3LjY1NTU1N10sCiAgICAgICAgICAgICAgICB7fQogICAgICAgICAgICApLmFkZFRvKG1hcF8zMTkzYTU1OTdjOTY0YzhhOTczNDZiZGM1MTg0ZTMyNyk7CiAgICAgICAgCiAgICAKICAgICAgICB2YXIgcG9wdXBfZTAxYjVhODMzMzc1NDhiZjhiYmM2OWE1NGI2ZDQ0MmQgPSBMLnBvcHVwKHsibWF4V2lkdGgiOiAiMTAwJSJ9KTsKCiAgICAgICAgCiAgICAgICAgICAgIHZhciBodG1sXzVlODlhOTEwYWQ1ZTQzOTk4ODM3OWFlZGQ3NjQ5NjcxID0gJChgPGRpdiBpZD0iaHRtbF81ZTg5YTkxMGFkNWU0Mzk5ODgzNzlhZWRkNzY0OTY3MSIgc3R5bGU9IndpZHRoOiAxMDAuMCU7IGhlaWdodDogMTAwLjAlOyI+QmFyaTwvZGl2PmApWzBdOwogICAgICAgICAgICBwb3B1cF9lMDFiNWE4MzMzNzU0OGJmOGJiYzY5YTU0YjZkNDQyZC5zZXRDb250ZW50KGh0bWxfNWU4OWE5MTBhZDVlNDM5OTg4Mzc5YWVkZDc2NDk2NzEpOwogICAgICAgIAoKICAgICAgICBtYXJrZXJfMmQ3ZmRiN2M5OTRkNGMwZmJjMjVhNzdkZGE3MmUzMjEuYmluZFBvcHVwKHBvcHVwX2UwMWI1YTgzMzM3NTQ4YmY4YmJjNjlhNTRiNmQ0NDJkKQogICAgICAgIDsKCiAgICAgICAgCiAgICAKICAgIAogICAgICAgICAgICB2YXIgbWFya2VyXzUzZjUzZjAzZGVkZjQyYTY5ZmJiNjdlNTRmMDMyZTBlID0gTC5tYXJrZXIoCiAgICAgICAgICAgICAgICBbNDEuODY3ODUyOSwgLTg3LjY0MTkyODldLAogICAgICAgICAgICAgICAge30KICAgICAgICAgICAgKS5hZGRUbyhtYXBfMzE5M2E1NTk3Yzk2NGM4YTk3MzQ2YmRjNTE4NGUzMjcpOwogICAgICAgIAogICAgCiAgICAgICAgdmFyIHBvcHVwXzA5MmQ3ZWI1MDQzNzQxZmE4MTM1ZWNjMjVjYjhmNGY4ID0gTC5wb3B1cCh7Im1heFdpZHRoIjogIjEwMCUifSk7CgogICAgICAgIAogICAgICAgICAgICB2YXIgaHRtbF9hZTg5YTJhYTMxOWM0OTlkYmRkY2RjMjk3ZGUyZjgwZiA9ICQoYDxkaXYgaWQ9Imh0bWxfYWU4OWEyYWEzMTljNDk5ZGJkZGNkYzI5N2RlMmY4MGYiIHN0eWxlPSJ3aWR0aDogMTAwLjAlOyBoZWlnaHQ6IDEwMC4wJTsiPk1hbm554oCZczwvZGl2PmApWzBdOwogICAgICAgICAgICBwb3B1cF8wOTJkN2ViNTA0Mzc0MWZhODEzNWVjYzI1Y2I4ZjRmOC5zZXRDb250ZW50KGh0bWxfYWU4OWEyYWEzMTljNDk5ZGJkZGNkYzI5N2RlMmY4MGYpOwogICAgICAgIAoKICAgICAgICBtYXJrZXJfNTNmNTNmMDNkZWRmNDJhNjlmYmI2N2U1NGYwMzJlMGUuYmluZFBvcHVwKHBvcHVwXzA5MmQ3ZWI1MDQzNzQxZmE4MTM1ZWNjMjVjYjhmNGY4KQogICAgICAgIDsKCiAgICAgICAgCiAgICAKICAgIAogICAgICAgICAgICB2YXIgbWFya2VyX2IyMWM5Mzg1OTYyYjQwMTFhMDYzMmE1M2UxY2EwMmM5ID0gTC5tYXJrZXIoCiAgICAgICAgICAgICAgICBbNDEuODg1MjY5MSwgLTg3LjYxODQ4MzddLAogICAgICAgICAgICAgICAge30KICAgICAgICAgICAgKS5hZGRUbyhtYXBfMzE5M2E1NTk3Yzk2NGM4YTk3MzQ2YmRjNTE4NGUzMjcpOwogICAgICAgIAogICAgCiAgICAgICAgdmFyIHBvcHVwXzEzZTllN2JkZGNhOTQ4NTU5NzMxODAzOGJjMTNkYWExID0gTC5wb3B1cCh7Im1heFdpZHRoIjogIjEwMCUifSk7CgogICAgICAgIAogICAgICAgICAgICB2YXIgaHRtbF85MjU4MjYyY2EzNmM0YzUyYWIwM2FlNzc0YjBmMzkwNCA9ICQoYDxkaXYgaWQ9Imh0bWxfOTI1ODI2MmNhMzZjNGM1MmFiMDNhZTc3NGIwZjM5MDQiIHN0eWxlPSJ3aWR0aDogMTAwLjAlOyBoZWlnaHQ6IDEwMC4wJTsiPkVnZ3nigJlzPC9kaXY+YClbMF07CiAgICAgICAgICAgIHBvcHVwXzEzZTllN2JkZGNhOTQ4NTU5NzMxODAzOGJjMTNkYWExLnNldENvbnRlbnQoaHRtbF85MjU4MjYyY2EzNmM0YzUyYWIwM2FlNzc0YjBmMzkwNCk7CiAgICAgICAgCgogICAgICAgIG1hcmtlcl9iMjFjOTM4NTk2MmI0MDExYTA2MzJhNTNlMWNhMDJjOS5iaW5kUG9wdXAocG9wdXBfMTNlOWU3YmRkY2E5NDg1NTk3MzE4MDM4YmMxM2RhYTEpCiAgICAgICAgOwoKICAgICAgICAKICAgIAogICAgCiAgICAgICAgICAgIHZhciBtYXJrZXJfZmQyOGQwOThiNmQxNDk3Mzg3YjZiYzkzNmIyZjAxNDcgPSBMLm1hcmtlcigKICAgICAgICAgICAgICAgIFs0MS45MDgwNTM5LCAtODcuNjM0MzExM10sCiAgICAgICAgICAgICAgICB7fQogICAgICAgICAgICApLmFkZFRvKG1hcF8zMTkzYTU1OTdjOTY0YzhhOTczNDZiZGM1MTg0ZTMyNyk7CiAgICAgICAgCiAgICAKICAgICAgICB2YXIgcG9wdXBfZWMxNmU0ZDFmOGU5NDczYzgxMjVkNjYxNjE1NWYzN2QgPSBMLnBvcHVwKHsibWF4V2lkdGgiOiAiMTAwJSJ9KTsKCiAgICAgICAgCiAgICAgICAgICAgIHZhciBodG1sX2ZmM2UyZWY2MGU0NDRiN2NhMWEzMGQwYTZiYjY2NmU2ID0gJChgPGRpdiBpZD0iaHRtbF9mZjNlMmVmNjBlNDQ0YjdjYTFhMzBkMGE2YmI2NjZlNiIgc3R5bGU9IndpZHRoOiAxMDAuMCU7IGhlaWdodDogMTAwLjAlOyI+T2xkIEplcnVzYWxlbTwvZGl2PmApWzBdOwogICAgICAgICAgICBwb3B1cF9lYzE2ZTRkMWY4ZTk0NzNjODEyNWQ2NjE2MTU1ZjM3ZC5zZXRDb250ZW50KGh0bWxfZmYzZTJlZjYwZTQ0NGI3Y2ExYTMwZDBhNmJiNjY2ZTYpOwogICAgICAgIAoKICAgICAgICBtYXJrZXJfZmQyOGQwOThiNmQxNDk3Mzg3YjZiYzkzNmIyZjAxNDcuYmluZFBvcHVwKHBvcHVwX2VjMTZlNGQxZjhlOTQ3M2M4MTI1ZDY2MTYxNTVmMzdkKQogICAgICAgIDsKCiAgICAgICAgCiAgICAKICAgIAogICAgICAgICAgICB2YXIgbWFya2VyXzk4ZjY3ZjFkZjMwYTQ3MTc5MWE2NzA4ZjNkM2RlOGIwID0gTC5tYXJrZXIoCiAgICAgICAgICAgICAgICBbNDEuOTEzNjk1Mzk5OTk5OTksIC04Ny42NzcxMjczXSwKICAgICAgICAgICAgICAgIHt9CiAgICAgICAgICAgICkuYWRkVG8obWFwXzMxOTNhNTU5N2M5NjRjOGE5NzM0NmJkYzUxODRlMzI3KTsKICAgICAgICAKICAgIAogICAgICAgIHZhciBwb3B1cF80ZmRmOTliZDRiNzY0YTUyOWYzNWQ2ZDg1YWJjZjVlYSA9IEwucG9wdXAoeyJtYXhXaWR0aCI6ICIxMDAlIn0pOwoKICAgICAgICAKICAgICAgICAgICAgdmFyIGh0bWxfNmVjMDNkNTVmMWZlNGY3OGIxYjM1YWJjYmM0ODkzMDkgPSAkKGA8ZGl2IGlkPSJodG1sXzZlYzAzZDU1ZjFmZTRmNzhiMWIzNWFiY2JjNDg5MzA5IiBzdHlsZT0id2lkdGg6IDEwMC4wJTsgaGVpZ2h0OiAxMDAuMCU7Ij5NaW5keeKAmXMgSG90Q2hvY29sYXRlPC9kaXY+YClbMF07CiAgICAgICAgICAgIHBvcHVwXzRmZGY5OWJkNGI3NjRhNTI5ZjM1ZDZkODVhYmNmNWVhLnNldENvbnRlbnQoaHRtbF82ZWMwM2Q1NWYxZmU0Zjc4YjFiMzVhYmNiYzQ4OTMwOSk7CiAgICAgICAgCgogICAgICAgIG1hcmtlcl85OGY2N2YxZGYzMGE0NzE3OTFhNjcwOGYzZDNkZThiMC5iaW5kUG9wdXAocG9wdXBfNGZkZjk5YmQ0Yjc2NGE1MjlmMzVkNmQ4NWFiY2Y1ZWEpCiAgICAgICAgOwoKICAgICAgICAKICAgIAogICAgCiAgICAgICAgICAgIHZhciBtYXJrZXJfMzA2NzQ1YWI1MTQyNDRjYTliZjE3ZTRiNTJhNzZhYWMgPSBMLm1hcmtlcigKICAgICAgICAgICAgICAgIFs0MS45NTM3MTA2LCAtODcuNzA4NDUwNF0sCiAgICAgICAgICAgICAgICB7fQogICAgICAgICAgICApLmFkZFRvKG1hcF8zMTkzYTU1OTdjOTY0YzhhOTczNDZiZGM1MTg0ZTMyNyk7CiAgICAgICAgCiAgICAKICAgICAgICB2YXIgcG9wdXBfNDZhN2NlOGNjODk4NGEyNmEzNTZmN2Y3OTMxNjFiMGEgPSBMLnBvcHVwKHsibWF4V2lkdGgiOiAiMTAwJSJ9KTsKCiAgICAgICAgCiAgICAgICAgICAgIHZhciBodG1sXzgxZGZlZGZmMzA2NzQ1Yzc4YmRjMWJmN2ViYzcxMzgyID0gJChgPGRpdiBpZD0iaHRtbF84MWRmZWRmZjMwNjc0NWM3OGJkYzFiZjdlYmM3MTM4MiIgc3R5bGU9IndpZHRoOiAxMDAuMCU7IGhlaWdodDogMTAwLjAlOyI+T2xnYeKAmXMgRGVsaWNhdGVzc2VuPC9kaXY+YClbMF07CiAgICAgICAgICAgIHBvcHVwXzQ2YTdjZThjYzg5ODRhMjZhMzU2ZjdmNzkzMTYxYjBhLnNldENvbnRlbnQoaHRtbF84MWRmZWRmZjMwNjc0NWM3OGJkYzFiZjdlYmM3MTM4Mik7CiAgICAgICAgCgogICAgICAgIG1hcmtlcl8zMDY3NDVhYjUxNDI0NGNhOWJmMTdlNGI1MmE3NmFhYy5iaW5kUG9wdXAocG9wdXBfNDZhN2NlOGNjODk4NGEyNmEzNTZmN2Y3OTMxNjFiMGEpCiAgICAgICAgOwoKICAgICAgICAKICAgIAogICAgCiAgICAgICAgICAgIHZhciBtYXJrZXJfY2M2OTRiNDNhODVlNDBhMWFiYjIzMzZkMzc4MTJmMzkgPSBMLm1hcmtlcigKICAgICAgICAgICAgICAgIFs0MS45Nzk0NDk2LCAtODcuNjY3OTU3MTk5OTk5OTldLAogICAgICAgICAgICAgICAge30KICAgICAgICAgICAgKS5hZGRUbyhtYXBfMzE5M2E1NTk3Yzk2NGM4YTk3MzQ2YmRjNTE4NGUzMjcpOwogICAgICAgIAogICAgCiAgICAgICAgdmFyIHBvcHVwX2UxNzA5MDViYjE5MjQ3NGM5OTA5ODRmNTc1YjQyMzZlID0gTC5wb3B1cCh7Im1heFdpZHRoIjogIjEwMCUifSk7CgogICAgICAgIAogICAgICAgICAgICB2YXIgaHRtbF82OTU5NjgzYWMxNTA0NDg3OWUyOTJkYTY5NmIzZjU1NyA9ICQoYDxkaXYgaWQ9Imh0bWxfNjk1OTY4M2FjMTUwNDQ4NzllMjkyZGE2OTZiM2Y1NTciIHN0eWxlPSJ3aWR0aDogMTAwLjAlOyBoZWlnaHQ6IDEwMC4wJTsiPkJpZyBKb25lczwvZGl2PmApWzBdOwogICAgICAgICAgICBwb3B1cF9lMTcwOTA1YmIxOTI0NzRjOTkwOTg0ZjU3NWI0MjM2ZS5zZXRDb250ZW50KGh0bWxfNjk1OTY4M2FjMTUwNDQ4NzllMjkyZGE2OTZiM2Y1NTcpOwogICAgICAgIAoKICAgICAgICBtYXJrZXJfY2M2OTRiNDNhODVlNDBhMWFiYjIzMzZkMzc4MTJmMzkuYmluZFBvcHVwKHBvcHVwX2UxNzA5MDViYjE5MjQ3NGM5OTA5ODRmNTc1YjQyMzZlKQogICAgICAgIDsKCiAgICAgICAgCiAgICAKICAgIAogICAgICAgICAgICB2YXIgbWFya2VyX2M0MmI4OWFjOGMwYTQ5YWJhM2RlN2U0ODI3MTFmZjUzID0gTC5tYXJrZXIoCiAgICAgICAgICAgICAgICBbNDEuOTU0MTU2MywgLTg3LjcwMjcxMDddLAogICAgICAgICAgICAgICAge30KICAgICAgICAgICAgKS5hZGRUbyhtYXBfMzE5M2E1NTk3Yzk2NGM4YTk3MzQ2YmRjNTE4NGUzMjcpOwogICAgICAgIAogICAgCiAgICAgICAgdmFyIHBvcHVwX2VkODM3ZDgyNGI4ZDQ1Y2JhNmM0YjllYTE1ZWRiOWY4ID0gTC5wb3B1cCh7Im1heFdpZHRoIjogIjEwMCUifSk7CgogICAgICAgIAogICAgICAgICAgICB2YXIgaHRtbF9hYzgyYzRmZWVmOTM0MTAwOGU2Y2NiNmNiOThlZWFiNCA9ICQoYDxkaXYgaWQ9Imh0bWxfYWM4MmM0ZmVlZjkzNDEwMDhlNmNjYjZjYjk4ZWVhYjQiIHN0eWxlPSJ3aWR0aDogMTAwLjAlOyBoZWlnaHQ6IDEwMC4wJTsiPkxhIFBhbmU8L2Rpdj5gKVswXTsKICAgICAgICAgICAgcG9wdXBfZWQ4MzdkODI0YjhkNDVjYmE2YzRiOWVhMTVlZGI5Zjguc2V0Q29udGVudChodG1sX2FjODJjNGZlZWY5MzQxMDA4ZTZjY2I2Y2I5OGVlYWI0KTsKICAgICAgICAKCiAgICAgICAgbWFya2VyX2M0MmI4OWFjOGMwYTQ5YWJhM2RlN2U0ODI3MTFmZjUzLmJpbmRQb3B1cChwb3B1cF9lZDgzN2Q4MjRiOGQ0NWNiYTZjNGI5ZWExNWVkYjlmOCkKICAgICAgICA7CgogICAgICAgIAogICAgCiAgICAKICAgICAgICAgICAgdmFyIG1hcmtlcl8yODQxYWUxNWMzZmE0NGE2YjIyODY2ZjVjY2FmOTNjZCA9IEwubWFya2VyKAogICAgICAgICAgICAgICAgWzQyLjE1NjY5MSwgLTg3LjgwMzYxOF0sCiAgICAgICAgICAgICAgICB7fQogICAgICAgICAgICApLmFkZFRvKG1hcF8zMTkzYTU1OTdjOTY0YzhhOTczNDZiZGM1MTg0ZTMyNyk7CiAgICAgICAgCiAgICAKICAgICAgICB2YXIgcG9wdXBfNjFkZWM2ZGI1MDAzNDM4YTk0MmQ4MjI4M2M1NDlhZGEgPSBMLnBvcHVwKHsibWF4V2lkdGgiOiAiMTAwJSJ9KTsKCiAgICAgICAgCiAgICAgICAgICAgIHZhciBodG1sXzA1MjQwMTgwZDJlNjQwYTY4OThhYTU4ZmEzOTcwOWIxID0gJChgPGRpdiBpZD0iaHRtbF8wNTI0MDE4MGQyZTY0MGE2ODk4YWE1OGZhMzk3MDliMSIgc3R5bGU9IndpZHRoOiAxMDAuMCU7IGhlaWdodDogMTAwLjAlOyI+TWF44oCZcyBEZWxpPC9kaXY+YClbMF07CiAgICAgICAgICAgIHBvcHVwXzYxZGVjNmRiNTAwMzQzOGE5NDJkODIyODNjNTQ5YWRhLnNldENvbnRlbnQoaHRtbF8wNTI0MDE4MGQyZTY0MGE2ODk4YWE1OGZhMzk3MDliMSk7CiAgICAgICAgCgogICAgICAgIG1hcmtlcl8yODQxYWUxNWMzZmE0NGE2YjIyODY2ZjVjY2FmOTNjZC5iaW5kUG9wdXAocG9wdXBfNjFkZWM2ZGI1MDAzNDM4YTk0MmQ4MjI4M2M1NDlhZGEpCiAgICAgICAgOwoKICAgICAgICAKICAgIAogICAgCiAgICAgICAgICAgIHZhciBtYXJrZXJfZDAyMGZlZTQ4MDAxNDMwMmE3MDExNDhiNTRkNjMzZDcgPSBMLm1hcmtlcigKICAgICAgICAgICAgICAgIFs0MS45NjUyOTg3LCAtODcuNjc1NTc5NTk5OTk5OTldLAogICAgICAgICAgICAgICAge30KICAgICAgICAgICAgKS5hZGRUbyhtYXBfMzE5M2E1NTk3Yzk2NGM4YTk3MzQ2YmRjNTE4NGUzMjcpOwogICAgICAgIAogICAgCiAgICAgICAgdmFyIHBvcHVwXzNiZDljNjdiZWIyZTQ4YzRhNjBjYjc1MTI5OWVmNWUwID0gTC5wb3B1cCh7Im1heFdpZHRoIjogIjEwMCUifSk7CgogICAgICAgIAogICAgICAgICAgICB2YXIgaHRtbF9jNWY0NWZmMmY3MTQ0MjEwYTFlM2I3YzcyZmFlZDJhOSA9ICQoYDxkaXYgaWQ9Imh0bWxfYzVmNDVmZjJmNzE0NDIxMGExZTNiN2M3MmZhZWQyYTkiIHN0eWxlPSJ3aWR0aDogMTAwLjAlOyBoZWlnaHQ6IDEwMC4wJTsiPkNpdHkgUHJvdmlzaW9uczwvZGl2PmApWzBdOwogICAgICAgICAgICBwb3B1cF8zYmQ5YzY3YmViMmU0OGM0YTYwY2I3NTEyOTllZjVlMC5zZXRDb250ZW50KGh0bWxfYzVmNDVmZjJmNzE0NDIxMGExZTNiN2M3MmZhZWQyYTkpOwogICAgICAgIAoKICAgICAgICBtYXJrZXJfZDAyMGZlZTQ4MDAxNDMwMmE3MDExNDhiNTRkNjMzZDcuYmluZFBvcHVwKHBvcHVwXzNiZDljNjdiZWIyZTQ4YzRhNjBjYjc1MTI5OWVmNWUwKQogICAgICAgIDsKCiAgICAgICAgCiAgICAKICAgIAogICAgICAgICAgICB2YXIgbWFya2VyXzQ5MzI3ZmJkODRhMTQ4YWJiYzMxMzMxNWUyNjMyOWEwID0gTC5tYXJrZXIoCiAgICAgICAgICAgICAgICBbNDEuOTAyNzIxNzk5OTk5OTksIC04Ny42OTAyMTM1XSwKICAgICAgICAgICAgICAgIHt9CiAgICAgICAgICAgICkuYWRkVG8obWFwXzMxOTNhNTU5N2M5NjRjOGE5NzM0NmJkYzUxODRlMzI3KTsKICAgICAgICAKICAgIAogICAgICAgIHZhciBwb3B1cF85Mzg0Yjc1YzFhZGE0ZTdjODhhMjZmMTMwMjVhYTVjMyA9IEwucG9wdXAoeyJtYXhXaWR0aCI6ICIxMDAlIn0pOwoKICAgICAgICAKICAgICAgICAgICAgdmFyIGh0bWxfZjU4NGNlZGU3NTAxNGFjMmE2NzM3ZWJkYWJjZjZhODcgPSAkKGA8ZGl2IGlkPSJodG1sX2Y1ODRjZWRlNzUwMTRhYzJhNjczN2ViZGFiY2Y2YTg3IiBzdHlsZT0id2lkdGg6IDEwMC4wJTsgaGVpZ2h0OiAxMDAuMCU7Ij5QYXBh4oCZcyBDYWNoZSBTYWJyb3NvPC9kaXY+YClbMF07CiAgICAgICAgICAgIHBvcHVwXzkzODRiNzVjMWFkYTRlN2M4OGEyNmYxMzAyNWFhNWMzLnNldENvbnRlbnQoaHRtbF9mNTg0Y2VkZTc1MDE0YWMyYTY3MzdlYmRhYmNmNmE4Nyk7CiAgICAgICAgCgogICAgICAgIG1hcmtlcl80OTMyN2ZiZDg0YTE0OGFiYmMzMTMzMTVlMjYzMjlhMC5iaW5kUG9wdXAocG9wdXBfOTM4NGI3NWMxYWRhNGU3Yzg4YTI2ZjEzMDI1YWE1YzMpCiAgICAgICAgOwoKICAgICAgICAKICAgIAogICAgCiAgICAgICAgICAgIHZhciBtYXJrZXJfYjMwNmM2MTNmMzlhNDIyZThhM2Q0ZWExNDkzYjUxN2YgPSBMLm1hcmtlcigKICAgICAgICAgICAgICAgIFs0MS44ODkzNjgzLCAtODcuNjM0OTQ4N10sCiAgICAgICAgICAgICAgICB7fQogICAgICAgICAgICApLmFkZFRvKG1hcF8zMTkzYTU1OTdjOTY0YzhhOTczNDZiZGM1MTg0ZTMyNyk7CiAgICAgICAgCiAgICAKICAgICAgICB2YXIgcG9wdXBfZWUzMTk2NDE5ZGEzNDY0OTkyNDFmNGU2MWQyYTNhODkgPSBMLnBvcHVwKHsibWF4V2lkdGgiOiAiMTAwJSJ9KTsKCiAgICAgICAgCiAgICAgICAgICAgIHZhciBodG1sX2Y0ZWE0YzVkNTRjNTRlYWRiODFkZjRmZGM4YWI1MmE3ID0gJChgPGRpdiBpZD0iaHRtbF9mNGVhNGM1ZDU0YzU0ZWFkYjgxZGY0ZmRjOGFiNTJhNyIgc3R5bGU9IndpZHRoOiAxMDAuMCU7IGhlaWdodDogMTAwLjAlOyI+QmF2ZXR0ZeKAmXMgQmFyICYgQm9ldWY8L2Rpdj5gKVswXTsKICAgICAgICAgICAgcG9wdXBfZWUzMTk2NDE5ZGEzNDY0OTkyNDFmNGU2MWQyYTNhODkuc2V0Q29udGVudChodG1sX2Y0ZWE0YzVkNTRjNTRlYWRiODFkZjRmZGM4YWI1MmE3KTsKICAgICAgICAKCiAgICAgICAgbWFya2VyX2IzMDZjNjEzZjM5YTQyMmU4YTNkNGVhMTQ5M2I1MTdmLmJpbmRQb3B1cChwb3B1cF9lZTMxOTY0MTlkYTM0NjQ5OTI0MWY0ZTYxZDJhM2E4OSkKICAgICAgICA7CgogICAgICAgIAogICAgCiAgICAKICAgICAgICAgICAgdmFyIG1hcmtlcl8xMmMyMjI1MDQ3MTI0NmVmYWU0NzFhZTdiZjdiZjMwYiA9IEwubWFya2VyKAogICAgICAgICAgICAgICAgWzQxLjkxMDUyNTgsIC04Ny42MzQzNzc1XSwKICAgICAgICAgICAgICAgIHt9CiAgICAgICAgICAgICkuYWRkVG8obWFwXzMxOTNhNTU5N2M5NjRjOGE5NzM0NmJkYzUxODRlMzI3KTsKICAgICAgICAKICAgIAogICAgICAgIHZhciBwb3B1cF9mZmYwZjliMjYwM2Y0ZjEwYTI4Yjk4MWYzNDk1ODNjNSA9IEwucG9wdXAoeyJtYXhXaWR0aCI6ICIxMDAlIn0pOwoKICAgICAgICAKICAgICAgICAgICAgdmFyIGh0bWxfOGYyZWZkYzJmZjRjNDNlMmFlNmNiMDE3OGI3YTAyNGUgPSAkKGA8ZGl2IGlkPSJodG1sXzhmMmVmZGMyZmY0YzQzZTJhZTZjYjAxNzhiN2EwMjRlIiBzdHlsZT0id2lkdGg6IDEwMC4wJTsgaGVpZ2h0OiAxMDAuMCU7Ij5MYSBGb3VybmV0dGU8L2Rpdj5gKVswXTsKICAgICAgICAgICAgcG9wdXBfZmZmMGY5YjI2MDNmNGYxMGEyOGI5ODFmMzQ5NTgzYzUuc2V0Q29udGVudChodG1sXzhmMmVmZGMyZmY0YzQzZTJhZTZjYjAxNzhiN2EwMjRlKTsKICAgICAgICAKCiAgICAgICAgbWFya2VyXzEyYzIyMjUwNDcxMjQ2ZWZhZTQ3MWFlN2JmN2JmMzBiLmJpbmRQb3B1cChwb3B1cF9mZmYwZjliMjYwM2Y0ZjEwYTI4Yjk4MWYzNDk1ODNjNSkKICAgICAgICA7CgogICAgICAgIAogICAgCiAgICAKICAgICAgICAgICAgdmFyIG1hcmtlcl9hZjdhNDM2ZGY5MGM0MzhlYjgzN2ZlYmE0Mjk4ZDhkMCA9IEwubWFya2VyKAogICAgICAgICAgICAgICAgWzQxLjg4OTYxODgsIC04Ny42NDQ4NDI1OTk5OTk5OV0sCiAgICAgICAgICAgICAgICB7fQogICAgICAgICAgICApLmFkZFRvKG1hcF8zMTkzYTU1OTdjOTY0YzhhOTczNDZiZGM1MTg0ZTMyNyk7CiAgICAgICAgCiAgICAKICAgICAgICB2YXIgcG9wdXBfMTQwMzViMzJmNTM2NDQ5YzllNjU0M2U3YWUwYzE5YTcgPSBMLnBvcHVwKHsibWF4V2lkdGgiOiAiMTAwJSJ9KTsKCiAgICAgICAgCiAgICAgICAgICAgIHZhciBodG1sX2JkY2Y5Yzc1M2Y5MTRhNDlhZmUwZjVhYzczZTc1ZTA5ID0gJChgPGRpdiBpZD0iaHRtbF9iZGNmOWM3NTNmOTE0YTQ5YWZlMGY1YWM3M2U3NWUwOSIgc3R5bGU9IndpZHRoOiAxMDAuMCU7IGhlaWdodDogMTAwLjAlOyI+UGFyYW1vdW50IFJvb208L2Rpdj5gKVswXTsKICAgICAgICAgICAgcG9wdXBfMTQwMzViMzJmNTM2NDQ5YzllNjU0M2U3YWUwYzE5YTcuc2V0Q29udGVudChodG1sX2JkY2Y5Yzc1M2Y5MTRhNDlhZmUwZjVhYzczZTc1ZTA5KTsKICAgICAgICAKCiAgICAgICAgbWFya2VyX2FmN2E0MzZkZjkwYzQzOGViODM3ZmViYTQyOThkOGQwLmJpbmRQb3B1cChwb3B1cF8xNDAzNWIzMmY1MzY0NDljOWU2NTQzZTdhZTBjMTlhNykKICAgICAgICA7CgogICAgICAgIAogICAgCiAgICAKICAgICAgICAgICAgdmFyIG1hcmtlcl80MWIzN2ZmOTUxZjc0NTFkOTgzYzBmZmM0MzY5NDkwZiA9IEwubWFya2VyKAogICAgICAgICAgICAgICAgWzQxLjkxNTA0OTkwMDAwMDAxLCAtODcuNjc3ODA0N10sCiAgICAgICAgICAgICAgICB7fQogICAgICAgICAgICApLmFkZFRvKG1hcF8zMTkzYTU1OTdjOTY0YzhhOTczNDZiZGM1MTg0ZTMyNyk7CiAgICAgICAgCiAgICAKICAgICAgICB2YXIgcG9wdXBfZjllMzc1ZGQ5NjdkNDQ5NzljOTA2MDQwZTI3ZGYzYmQgPSBMLnBvcHVwKHsibWF4V2lkdGgiOiAiMTAwJSJ9KTsKCiAgICAgICAgCiAgICAgICAgICAgIHZhciBodG1sX2E1YjY5MmRmZWM2NzQ3NTc4YTY1MTM5ZTNlMWMzY2I2ID0gJChgPGRpdiBpZD0iaHRtbF9hNWI2OTJkZmVjNjc0NzU3OGE2NTEzOWUzZTFjM2NiNiIgc3R5bGU9IndpZHRoOiAxMDAuMCU7IGhlaWdodDogMTAwLjAlOyI+TWVsdCBTYW5kd2ljaCBTaG9wcGU8L2Rpdj5gKVswXTsKICAgICAgICAgICAgcG9wdXBfZjllMzc1ZGQ5NjdkNDQ5NzljOTA2MDQwZTI3ZGYzYmQuc2V0Q29udGVudChodG1sX2E1YjY5MmRmZWM2NzQ3NTc4YTY1MTM5ZTNlMWMzY2I2KTsKICAgICAgICAKCiAgICAgICAgbWFya2VyXzQxYjM3ZmY5NTFmNzQ1MWQ5ODNjMGZmYzQzNjk0OTBmLmJpbmRQb3B1cChwb3B1cF9mOWUzNzVkZDk2N2Q0NDk3OWM5MDYwNDBlMjdkZjNiZCkKICAgICAgICA7CgogICAgICAgIAogICAgCiAgICAKICAgICAgICAgICAgdmFyIG1hcmtlcl8yZWQ5YzYyNDJmZWE0MWZjODAyMjdhYmMzMjBiMzA0MyA9IEwubWFya2VyKAogICAgICAgICAgICAgICAgWzQxLjkyMTg1MjEsIC04Ny42NTkyMTI0XSwKICAgICAgICAgICAgICAgIHt9CiAgICAgICAgICAgICkuYWRkVG8obWFwXzMxOTNhNTU5N2M5NjRjOGE5NzM0NmJkYzUxODRlMzI3KTsKICAgICAgICAKICAgIAogICAgICAgIHZhciBwb3B1cF9iMTVmNTYzOGIwYzI0MTEyYTI2NzAyZDY5YmVlNzdlNyA9IEwucG9wdXAoeyJtYXhXaWR0aCI6ICIxMDAlIn0pOwoKICAgICAgICAKICAgICAgICAgICAgdmFyIGh0bWxfZTRhYjI3MmI1YWVkNGE0NTg2M2Q2NzYzYzQ5MjIxODMgPSAkKGA8ZGl2IGlkPSJodG1sX2U0YWIyNzJiNWFlZDRhNDU4NjNkNjc2M2M0OTIyMTgzIiBzdHlsZT0id2lkdGg6IDEwMC4wJTsgaGVpZ2h0OiAxMDAuMCU7Ij5GbG9yaW9sZSBDYWZlICYgQmFrZXJ5PC9kaXY+YClbMF07CiAgICAgICAgICAgIHBvcHVwX2IxNWY1NjM4YjBjMjQxMTJhMjY3MDJkNjliZWU3N2U3LnNldENvbnRlbnQoaHRtbF9lNGFiMjcyYjVhZWQ0YTQ1ODYzZDY3NjNjNDkyMjE4Myk7CiAgICAgICAgCgogICAgICAgIG1hcmtlcl8yZWQ5YzYyNDJmZWE0MWZjODAyMjdhYmMzMjBiMzA0My5iaW5kUG9wdXAocG9wdXBfYjE1ZjU2MzhiMGMyNDExMmEyNjcwMmQ2OWJlZTc3ZTcpCiAgICAgICAgOwoKICAgICAgICAKICAgIAogICAgCiAgICAgICAgICAgIHZhciBtYXJrZXJfMzZiZjkyOGM5NmU5NDU1NWEwNmVhODY0NzkyNDZhNTggPSBMLm1hcmtlcigKICAgICAgICAgICAgICAgIFs0MS45Nzk3MDk5LCAtODcuNjY5MzQ0MDk5OTk5OTldLAogICAgICAgICAgICAgICAge30KICAgICAgICAgICAgKS5hZGRUbyhtYXBfMzE5M2E1NTk3Yzk2NGM4YTk3MzQ2YmRjNTE4NGUzMjcpOwogICAgICAgIAogICAgCiAgICAgICAgdmFyIHBvcHVwX2FkNjE3NTAxN2MxZTRkOTZhMmJkYjMwMzVlNzM0NTQyID0gTC5wb3B1cCh7Im1heFdpZHRoIjogIjEwMCUifSk7CgogICAgICAgIAogICAgICAgICAgICB2YXIgaHRtbF80YWRmOTgzMDkyYmY0N2JhOTc5ODc3NDM0NDIxZjFlYyA9ICQoYDxkaXYgaWQ9Imh0bWxfNGFkZjk4MzA5MmJmNDdiYTk3OTg3NzQzNDQyMWYxZWMiIHN0eWxlPSJ3aWR0aDogMTAwLjAlOyBoZWlnaHQ6IDEwMC4wJTsiPkZpcnN0IFNsaWNlIFBpZSBDYWbDqTwvZGl2PmApWzBdOwogICAgICAgICAgICBwb3B1cF9hZDYxNzUwMTdjMWU0ZDk2YTJiZGIzMDM1ZTczNDU0Mi5zZXRDb250ZW50KGh0bWxfNGFkZjk4MzA5MmJmNDdiYTk3OTg3NzQzNDQyMWYxZWMpOwogICAgICAgIAoKICAgICAgICBtYXJrZXJfMzZiZjkyOGM5NmU5NDU1NWEwNmVhODY0NzkyNDZhNTguYmluZFBvcHVwKHBvcHVwX2FkNjE3NTAxN2MxZTRkOTZhMmJkYjMwMzVlNzM0NTQyKQogICAgICAgIDsKCiAgICAgICAgCiAgICAKICAgIAogICAgICAgICAgICB2YXIgbWFya2VyXzY5YjBkNmIwMWEzOTQ2M2FhMWYyNDU5ODkyYTc2NDEwID0gTC5tYXJrZXIoCiAgICAgICAgICAgICAgICBbNDEuOTYxNzEyMiwgLTg3LjY3NTgxNjIwMDAwMDAxXSwKICAgICAgICAgICAgICAgIHt9CiAgICAgICAgICAgICkuYWRkVG8obWFwXzMxOTNhNTU5N2M5NjRjOGE5NzM0NmJkYzUxODRlMzI3KTsKICAgICAgICAKICAgIAogICAgICAgIHZhciBwb3B1cF8xMTgxOWZlMTljYzk0OGM1OWU2NDZhNTM4YmVkMzMwYiA9IEwucG9wdXAoeyJtYXhXaWR0aCI6ICIxMDAlIn0pOwoKICAgICAgICAKICAgICAgICAgICAgdmFyIGh0bWxfMjRjN2FmNjc2ZDZhNDdjNTgzZTM5NTI4Mzk2MmU4OWIgPSAkKGA8ZGl2IGlkPSJodG1sXzI0YzdhZjY3NmQ2YTQ3YzU4M2UzOTUyODM5NjJlODliIiBzdHlsZT0id2lkdGg6IDEwMC4wJTsgaGVpZ2h0OiAxMDAuMCU7Ij5Ucm9xdWV0PC9kaXY+YClbMF07CiAgICAgICAgICAgIHBvcHVwXzExODE5ZmUxOWNjOTQ4YzU5ZTY0NmE1MzhiZWQzMzBiLnNldENvbnRlbnQoaHRtbF8yNGM3YWY2NzZkNmE0N2M1ODNlMzk1MjgzOTYyZTg5Yik7CiAgICAgICAgCgogICAgICAgIG1hcmtlcl82OWIwZDZiMDFhMzk0NjNhYTFmMjQ1OTg5MmE3NjQxMC5iaW5kUG9wdXAocG9wdXBfMTE4MTlmZTE5Y2M5NDhjNTllNjQ2YTUzOGJlZDMzMGIpCiAgICAgICAgOwoKICAgICAgICAKICAgIAogICAgCiAgICAgICAgICAgIHZhciBtYXJrZXJfODNjNWUwNGZhODZkNDhmZjllNDgxYjFhY2Q2OTAxM2QgPSBMLm1hcmtlcigKICAgICAgICAgICAgICAgIFs0MS44OTI5NjExOTk5OTk5OSwgLTg3LjYyNzgyMTRdLAogICAgICAgICAgICAgICAge30KICAgICAgICAgICAgKS5hZGRUbyhtYXBfMzE5M2E1NTk3Yzk2NGM4YTk3MzQ2YmRjNTE4NGUzMjcpOwogICAgICAgIAogICAgCiAgICAgICAgdmFyIHBvcHVwX2FiMjEwYTk0OWI5ZTRiMDZhMTgxZmNjOTA4YmQzNTFhID0gTC5wb3B1cCh7Im1heFdpZHRoIjogIjEwMCUifSk7CgogICAgICAgIAogICAgICAgICAgICB2YXIgaHRtbF8zMThlMDg4YmViYmU0NjBlYjJjOTIyM2ZmY2U2NmVhMyA9ICQoYDxkaXYgaWQ9Imh0bWxfMzE4ZTA4OGJlYmJlNDYwZWIyYzkyMjNmZmNlNjZlYTMiIHN0eWxlPSJ3aWR0aDogMTAwLjAlOyBoZWlnaHQ6IDEwMC4wJTsiPkdyYWhhbXdpY2g8L2Rpdj5gKVswXTsKICAgICAgICAgICAgcG9wdXBfYWIyMTBhOTQ5YjllNGIwNmExODFmY2M5MDhiZDM1MWEuc2V0Q29udGVudChodG1sXzMxOGUwODhiZWJiZTQ2MGViMmM5MjIzZmZjZTY2ZWEzKTsKICAgICAgICAKCiAgICAgICAgbWFya2VyXzgzYzVlMDRmYTg2ZDQ4ZmY5ZTQ4MWIxYWNkNjkwMTNkLmJpbmRQb3B1cChwb3B1cF9hYjIxMGE5NDliOWU0YjA2YTE4MWZjYzkwOGJkMzUxYSkKICAgICAgICA7CgogICAgICAgIAogICAgCiAgICAKICAgICAgICAgICAgdmFyIG1hcmtlcl9kMmYyNjlkOThiNzI0NmZjOWI1ZTY3MDg0ZGJlZGU1ZCA9IEwubWFya2VyKAogICAgICAgICAgICAgICAgWzQxLjkwNDc1NTEsIC04Ny45Mzk2NDU5XSwKICAgICAgICAgICAgICAgIHt9CiAgICAgICAgICAgICkuYWRkVG8obWFwXzMxOTNhNTU5N2M5NjRjOGE5NzM0NmJkYzUxODRlMzI3KTsKICAgICAgICAKICAgIAogICAgICAgIHZhciBwb3B1cF9kZDAyMjQzNWYzNDQ0NzlhYmJmMDQ4NjYyMmViMjRkNyA9IEwucG9wdXAoeyJtYXhXaWR0aCI6ICIxMDAlIn0pOwoKICAgICAgICAKICAgICAgICAgICAgdmFyIGh0bWxfODQ0MmVlYzM0MmYxNGYzOWI0YTBiNDcwNzQzMTU2NDcgPSAkKGA8ZGl2IGlkPSJodG1sXzg0NDJlZWMzNDJmMTRmMzliNGEwYjQ3MDc0MzE1NjQ3IiBzdHlsZT0id2lkdGg6IDEwMC4wJTsgaGVpZ2h0OiAxMDAuMCU7Ij5Sb3NhbGlh4oCZcyBEZWxpPC9kaXY+YClbMF07CiAgICAgICAgICAgIHBvcHVwX2RkMDIyNDM1ZjM0NDQ3OWFiYmYwNDg2NjIyZWIyNGQ3LnNldENvbnRlbnQoaHRtbF84NDQyZWVjMzQyZjE0ZjM5YjRhMGI0NzA3NDMxNTY0Nyk7CiAgICAgICAgCgogICAgICAgIG1hcmtlcl9kMmYyNjlkOThiNzI0NmZjOWI1ZTY3MDg0ZGJlZGU1ZC5iaW5kUG9wdXAocG9wdXBfZGQwMjI0MzVmMzQ0NDc5YWJiZjA0ODY2MjJlYjI0ZDcpCiAgICAgICAgOwoKICAgICAgICAKICAgIAogICAgCiAgICAgICAgICAgIHZhciBtYXJrZXJfNTIxYTdhMjBlMmVhNGVkOWE1MjhjZGNkNjYyMzdjNDAgPSBMLm1hcmtlcigKICAgICAgICAgICAgICAgIFs0MS43OTEzMTg1LCAtODcuNTkzODQ1Nl0sCiAgICAgICAgICAgICAgICB7fQogICAgICAgICAgICApLmFkZFRvKG1hcF8zMTkzYTU1OTdjOTY0YzhhOTczNDZiZGM1MTg0ZTMyNyk7CiAgICAgICAgCiAgICAKICAgICAgICB2YXIgcG9wdXBfZTg1MzEwMWEyM2JlNGU1N2I2OWMzYTllMDI5Yjk1N2MgPSBMLnBvcHVwKHsibWF4V2lkdGgiOiAiMTAwJSJ9KTsKCiAgICAgICAgCiAgICAgICAgICAgIHZhciBodG1sX2Q4NjU1NGZiMmNkMDQ1MDQ4MWJjYTUwNjM1ODNlMjA1ID0gJChgPGRpdiBpZD0iaHRtbF9kODY1NTRmYjJjZDA0NTA0ODFiY2E1MDYzNTgzZTIwNSIgc3R5bGU9IndpZHRoOiAxMDAuMCU7IGhlaWdodDogMTAwLjAlOyI+WiZIIE1hcmtldENhZmU8L2Rpdj5gKVswXTsKICAgICAgICAgICAgcG9wdXBfZTg1MzEwMWEyM2JlNGU1N2I2OWMzYTllMDI5Yjk1N2Muc2V0Q29udGVudChodG1sX2Q4NjU1NGZiMmNkMDQ1MDQ4MWJjYTUwNjM1ODNlMjA1KTsKICAgICAgICAKCiAgICAgICAgbWFya2VyXzUyMWE3YTIwZTJlYTRlZDlhNTI4Y2RjZDY2MjM3YzQwLmJpbmRQb3B1cChwb3B1cF9lODUzMTAxYTIzYmU0ZTU3YjY5YzNhOWUwMjliOTU3YykKICAgICAgICA7CgogICAgICAgIAogICAgCiAgICAKICAgICAgICAgICAgdmFyIG1hcmtlcl9hZjA4OGQ4ZGYxNjI0OTRhOGRjMzBjOWZiMjIyMDIyYSA9IEwubWFya2VyKAogICAgICAgICAgICAgICAgWzQyLjI1MTgzNTIsIC04Ny44NDE0OTk4XSwKICAgICAgICAgICAgICAgIHt9CiAgICAgICAgICAgICkuYWRkVG8obWFwXzMxOTNhNTU5N2M5NjRjOGE5NzM0NmJkYzUxODRlMzI3KTsKICAgICAgICAKICAgIAogICAgICAgIHZhciBwb3B1cF8zODdjZmE5YjRlMjE0NWIzOTFkYjI0ODNlYzc2MjY4NSA9IEwucG9wdXAoeyJtYXhXaWR0aCI6ICIxMDAlIn0pOwoKICAgICAgICAKICAgICAgICAgICAgdmFyIGh0bWxfMzZlMzgzOTI2MTJkNGNmMzg3ZjM4NjM0ZjhjZjM2YjcgPSAkKGA8ZGl2IGlkPSJodG1sXzM2ZTM4MzkyNjEyZDRjZjM4N2YzODYzNGY4Y2YzNmI3IiBzdHlsZT0id2lkdGg6IDEwMC4wJTsgaGVpZ2h0OiAxMDAuMCU7Ij5NYXJrZXQgSG91c2Ugb24gdGhlIFNxdWFyZTwvZGl2PmApWzBdOwogICAgICAgICAgICBwb3B1cF8zODdjZmE5YjRlMjE0NWIzOTFkYjI0ODNlYzc2MjY4NS5zZXRDb250ZW50KGh0bWxfMzZlMzgzOTI2MTJkNGNmMzg3ZjM4NjM0ZjhjZjM2YjcpOwogICAgICAgIAoKICAgICAgICBtYXJrZXJfYWYwODhkOGRmMTYyNDk0YThkYzMwYzlmYjIyMjAyMmEuYmluZFBvcHVwKHBvcHVwXzM4N2NmYTliNGUyMTQ1YjM5MWRiMjQ4M2VjNzYyNjg1KQogICAgICAgIDsKCiAgICAgICAgCiAgICAKICAgIAogICAgICAgICAgICB2YXIgbWFya2VyXzUxODE0YzE4MDU1YzRlNmRhYmQ0YTVlODVhM2YzMTg5ID0gTC5tYXJrZXIoCiAgICAgICAgICAgICAgICBbNDEuOTE1Mjg3NSwgLTg3LjYzNDM4ODhdLAogICAgICAgICAgICAgICAge30KICAgICAgICAgICAgKS5hZGRUbyhtYXBfMzE5M2E1NTk3Yzk2NGM4YTk3MzQ2YmRjNTE4NGUzMjcpOwogICAgICAgIAogICAgCiAgICAgICAgdmFyIHBvcHVwXzNmYzQ1M2E2Zjg0ZTRiNTc4MzlhNjFmYjZkODlhNDYyID0gTC5wb3B1cCh7Im1heFdpZHRoIjogIjEwMCUifSk7CgogICAgICAgIAogICAgICAgICAgICB2YXIgaHRtbF85M2MxOTZlOWY4MDk0NjA3OTU0ZmU3ZmJlMmQ1MDVkMyA9ICQoYDxkaXYgaWQ9Imh0bWxfOTNjMTk2ZTlmODA5NDYwNzk1NGZlN2ZiZTJkNTA1ZDMiIHN0eWxlPSJ3aWR0aDogMTAwLjAlOyBoZWlnaHQ6IDEwMC4wJTsiPkVsYWluZeKAmXMgQ29mZmVlIENhbGw8L2Rpdj5gKVswXTsKICAgICAgICAgICAgcG9wdXBfM2ZjNDUzYTZmODRlNGI1NzgzOWE2MWZiNmQ4OWE0NjIuc2V0Q29udGVudChodG1sXzkzYzE5NmU5ZjgwOTQ2MDc5NTRmZTdmYmUyZDUwNWQzKTsKICAgICAgICAKCiAgICAgICAgbWFya2VyXzUxODE0YzE4MDU1YzRlNmRhYmQ0YTVlODVhM2YzMTg5LmJpbmRQb3B1cChwb3B1cF8zZmM0NTNhNmY4NGU0YjU3ODM5YTYxZmI2ZDg5YTQ2MikKICAgICAgICA7CgogICAgICAgIAogICAgCiAgICAKICAgICAgICAgICAgdmFyIG1hcmtlcl9iMTRjZWUwMmM1ZTQ0MTUzODIzMzc4NDRlY2ZjN2JmMCA9IEwubWFya2VyKAogICAgICAgICAgICAgICAgWzQxLjg4NjM2MjIsIC04Ny44MDIyMjk3XSwKICAgICAgICAgICAgICAgIHt9CiAgICAgICAgICAgICkuYWRkVG8obWFwXzMxOTNhNTU5N2M5NjRjOGE5NzM0NmJkYzUxODRlMzI3KTsKICAgICAgICAKICAgIAogICAgICAgIHZhciBwb3B1cF83MWM0MjU3MzM1Yjg0ODIwYTQ5MTZmZThiOTQxMjJkOSA9IEwucG9wdXAoeyJtYXhXaWR0aCI6ICIxMDAlIn0pOwoKICAgICAgICAKICAgICAgICAgICAgdmFyIGh0bWxfYWM2ZTMwYzFlZDE0NDM4YTg5ODkwOGNlMmI3ZWViZDMgPSAkKGA8ZGl2IGlkPSJodG1sX2FjNmUzMGMxZWQxNDQzOGE4OTg5MDhjZTJiN2VlYmQzIiBzdHlsZT0id2lkdGg6IDEwMC4wJTsgaGVpZ2h0OiAxMDAuMCU7Ij5NYXJpb24gU3RyZWV0IENoZWVzZSBNYXJrZXQ8L2Rpdj5gKVswXTsKICAgICAgICAgICAgcG9wdXBfNzFjNDI1NzMzNWI4NDgyMGE0OTE2ZmU4Yjk0MTIyZDkuc2V0Q29udGVudChodG1sX2FjNmUzMGMxZWQxNDQzOGE4OTg5MDhjZTJiN2VlYmQzKTsKICAgICAgICAKCiAgICAgICAgbWFya2VyX2IxNGNlZTAyYzVlNDQxNTM4MjMzNzg0NGVjZmM3YmYwLmJpbmRQb3B1cChwb3B1cF83MWM0MjU3MzM1Yjg0ODIwYTQ5MTZmZThiOTQxMjJkOSkKICAgICAgICA7CgogICAgICAgIAogICAgCiAgICAKICAgICAgICAgICAgdmFyIG1hcmtlcl8zMmEwZDkzYTEzYjY0NmE2OTRiZDc0NjUwNTI4NmMxMSA9IEwubWFya2VyKAogICAgICAgICAgICAgICAgWzQxLjg3NTgxMDIsIC04Ny42MjY0NDg5XSwKICAgICAgICAgICAgICAgIHt9CiAgICAgICAgICAgICkuYWRkVG8obWFwXzMxOTNhNTU5N2M5NjRjOGE5NzM0NmJkYzUxODRlMzI3KTsKICAgICAgICAKICAgIAogICAgICAgIHZhciBwb3B1cF83MzZjN2UwYjVlNmM0NzZmOTAwYzJjMWJiZDYxZDZkZSA9IEwucG9wdXAoeyJtYXhXaWR0aCI6ICIxMDAlIn0pOwoKICAgICAgICAKICAgICAgICAgICAgdmFyIGh0bWxfMzU2NGI2ZTIwMjU1NDFiYThmNDhiZWY5MmFhMTNjOTAgPSAkKGA8ZGl2IGlkPSJodG1sXzM1NjRiNmUyMDI1NTQxYmE4ZjQ4YmVmOTJhYTEzYzkwIiBzdHlsZT0id2lkdGg6IDEwMC4wJTsgaGVpZ2h0OiAxMDAuMCU7Ij5DYWZlY2l0bzwvZGl2PmApWzBdOwogICAgICAgICAgICBwb3B1cF83MzZjN2UwYjVlNmM0NzZmOTAwYzJjMWJiZDYxZDZkZS5zZXRDb250ZW50KGh0bWxfMzU2NGI2ZTIwMjU1NDFiYThmNDhiZWY5MmFhMTNjOTApOwogICAgICAgIAoKICAgICAgICBtYXJrZXJfMzJhMGQ5M2ExM2I2NDZhNjk0YmQ3NDY1MDUyODZjMTEuYmluZFBvcHVwKHBvcHVwXzczNmM3ZTBiNWU2YzQ3NmY5MDBjMmMxYmJkNjFkNmRlKQogICAgICAgIDsKCiAgICAgICAgCiAgICAKICAgIAogICAgICAgICAgICB2YXIgbWFya2VyX2UwZTBiOTQzYzVlMzQ3Yjc4ZGRlNzdkM2JmMzY5ZjM2ID0gTC5tYXJrZXIoCiAgICAgICAgICAgICAgICBbNDEuODk2MDczOCwgLTg3LjY3NzgxODVdLAogICAgICAgICAgICAgICAge30KICAgICAgICAgICAgKS5hZGRUbyhtYXBfMzE5M2E1NTk3Yzk2NGM4YTk3MzQ2YmRjNTE4NGUzMjcpOwogICAgICAgIAogICAgCiAgICAgICAgdmFyIHBvcHVwXzZlODI1MDE2ZGZhMDQ5ZmM5YmM5NDY3NmE3NTg3OTMxID0gTC5wb3B1cCh7Im1heFdpZHRoIjogIjEwMCUifSk7CgogICAgICAgIAogICAgICAgICAgICB2YXIgaHRtbF9jM2UwMzVmMDFlNzE0ZmFkODEwMmM5NGVhOGY2ZmRiYSA9ICQoYDxkaXYgaWQ9Imh0bWxfYzNlMDM1ZjAxZTcxNGZhZDgxMDJjOTRlYThmNmZkYmEiIHN0eWxlPSJ3aWR0aDogMTAwLjAlOyBoZWlnaHQ6IDEwMC4wJTsiPkNoaWNrcGVhPC9kaXY+YClbMF07CiAgICAgICAgICAgIHBvcHVwXzZlODI1MDE2ZGZhMDQ5ZmM5YmM5NDY3NmE3NTg3OTMxLnNldENvbnRlbnQoaHRtbF9jM2UwMzVmMDFlNzE0ZmFkODEwMmM5NGVhOGY2ZmRiYSk7CiAgICAgICAgCgogICAgICAgIG1hcmtlcl9lMGUwYjk0M2M1ZTM0N2I3OGRkZTc3ZDNiZjM2OWYzNi5iaW5kUG9wdXAocG9wdXBfNmU4MjUwMTZkZmEwNDlmYzliYzk0Njc2YTc1ODc5MzEpCiAgICAgICAgOwoKICAgICAgICAKICAgIAogICAgCiAgICAgICAgICAgIHZhciBtYXJrZXJfNzJlMWViNzAxYjIwNDdkZmJlY2I2YTZkYzA0ZmFiMGEgPSBMLm1hcmtlcigKICAgICAgICAgICAgICAgIFs0MS44OTg5Nzg1MDAwMDAwMSwgLTg3LjYyNzM5MjZdLAogICAgICAgICAgICAgICAge30KICAgICAgICAgICAgKS5hZGRUbyhtYXBfMzE5M2E1NTk3Yzk2NGM4YTk3MzQ2YmRjNTE4NGUzMjcpOwogICAgICAgIAogICAgCiAgICAgICAgdmFyIHBvcHVwXzIyYzQ3YmIyNGEwNTQwOTY5M2RiMTA0ZmRjYWM0NDkyID0gTC5wb3B1cCh7Im1heFdpZHRoIjogIjEwMCUifSk7CgogICAgICAgIAogICAgICAgICAgICB2YXIgaHRtbF9iOTk3MGM0ZjhmMjE0YTM2YWFiNmJiMzgyNWYwNWUzNSA9ICQoYDxkaXYgaWQ9Imh0bWxfYjk5NzBjNGY4ZjIxNGEzNmFhYjZiYjM4MjVmMDVlMzUiIHN0eWxlPSJ3aWR0aDogMTAwLjAlOyBoZWlnaHQ6IDEwMC4wJTsiPlRoZSBHb2RkZXNzIGFuZCBHcm9jZXI8L2Rpdj5gKVswXTsKICAgICAgICAgICAgcG9wdXBfMjJjNDdiYjI0YTA1NDA5NjkzZGIxMDRmZGNhYzQ0OTIuc2V0Q29udGVudChodG1sX2I5OTcwYzRmOGYyMTRhMzZhYWI2YmIzODI1ZjA1ZTM1KTsKICAgICAgICAKCiAgICAgICAgbWFya2VyXzcyZTFlYjcwMWIyMDQ3ZGZiZWNiNmE2ZGMwNGZhYjBhLmJpbmRQb3B1cChwb3B1cF8yMmM0N2JiMjRhMDU0MDk2OTNkYjEwNGZkY2FjNDQ5MikKICAgICAgICA7CgogICAgICAgIAogICAgCiAgICAKICAgICAgICAgICAgdmFyIG1hcmtlcl8wMzk0OTNkMjBlNWY0MDQ4YmYwNjM2MWFjZDFiNTM3OCA9IEwubWFya2VyKAogICAgICAgICAgICAgICAgWzQxLjkxMDU4MzIsIC04Ny45NDA0ODgzOTk5OTk5OV0sCiAgICAgICAgICAgICAgICB7fQogICAgICAgICAgICApLmFkZFRvKG1hcF8zMTkzYTU1OTdjOTY0YzhhOTczNDZiZGM1MTg0ZTMyNyk7CiAgICAgICAgCiAgICAKICAgICAgICB2YXIgcG9wdXBfMzRhYjhlODljMzgwNDZhZWIzOWNhM2Y3YWE0OGNlYzEgPSBMLnBvcHVwKHsibWF4V2lkdGgiOiAiMTAwJSJ9KTsKCiAgICAgICAgCiAgICAgICAgICAgIHZhciBodG1sXzgyNWI5NDhmYjg2NzQxOGZhNmRlNGFjMjkwNzg4MDNhID0gJChgPGRpdiBpZD0iaHRtbF84MjViOTQ4ZmI4Njc0MThmYTZkZTRhYzI5MDc4ODAzYSIgc3R5bGU9IndpZHRoOiAxMDAuMCU7IGhlaWdodDogMTAwLjAlOyI+WmVud2ljaDwvZGl2PmApWzBdOwogICAgICAgICAgICBwb3B1cF8zNGFiOGU4OWMzODA0NmFlYjM5Y2EzZjdhYTQ4Y2VjMS5zZXRDb250ZW50KGh0bWxfODI1Yjk0OGZiODY3NDE4ZmE2ZGU0YWMyOTA3ODgwM2EpOwogICAgICAgIAoKICAgICAgICBtYXJrZXJfMDM5NDkzZDIwZTVmNDA0OGJmMDYzNjFhY2QxYjUzNzguYmluZFBvcHVwKHBvcHVwXzM0YWI4ZTg5YzM4MDQ2YWViMzljYTNmN2FhNDhjZWMxKQogICAgICAgIDsKCiAgICAgICAgCiAgICAKICAgIAogICAgICAgICAgICB2YXIgbWFya2VyXzYyZjNlODNkMWE2YTRjNzQ4ODlmMGRjYjJhYTAzNmVkID0gTC5tYXJrZXIoCiAgICAgICAgICAgICAgICBbNDEuODgzMTA2MSwgLTg3LjYyNTQzODFdLAogICAgICAgICAgICAgICAge30KICAgICAgICAgICAgKS5hZGRUbyhtYXBfMzE5M2E1NTk3Yzk2NGM4YTk3MzQ2YmRjNTE4NGUzMjcpOwogICAgICAgIAogICAgCiAgICAgICAgdmFyIHBvcHVwX2ZjOTA4YTU3YmY3NDRkODBhNjZkOGJkNTU5MDBhZDkzID0gTC5wb3B1cCh7Im1heFdpZHRoIjogIjEwMCUifSk7CgogICAgICAgIAogICAgICAgICAgICB2YXIgaHRtbF84NzExMTcyMGIwZDk0YTY4ODhkMzE0YTFjNGUzZGRhZiA9ICQoYDxkaXYgaWQ9Imh0bWxfODcxMTE3MjBiMGQ5NGE2ODg4ZDMxNGExYzRlM2RkYWYiIHN0eWxlPSJ3aWR0aDogMTAwLjAlOyBoZWlnaHQ6IDEwMC4wJTsiPlRvbmkgUGF0aXNzZXJpZTwvZGl2PmApWzBdOwogICAgICAgICAgICBwb3B1cF9mYzkwOGE1N2JmNzQ0ZDgwYTY2ZDhiZDU1OTAwYWQ5My5zZXRDb250ZW50KGh0bWxfODcxMTE3MjBiMGQ5NGE2ODg4ZDMxNGExYzRlM2RkYWYpOwogICAgICAgIAoKICAgICAgICBtYXJrZXJfNjJmM2U4M2QxYTZhNGM3NDg4OWYwZGNiMmFhMDM2ZWQuYmluZFBvcHVwKHBvcHVwX2ZjOTA4YTU3YmY3NDRkODBhNjZkOGJkNTU5MDBhZDkzKQogICAgICAgIDsKCiAgICAgICAgCiAgICAKICAgIAogICAgICAgICAgICB2YXIgbWFya2VyX2U5ODE3YWJkZmEwODQ4ZjM5ZDZiNTVhMzQzMDE1MmQ3ID0gTC5tYXJrZXIoCiAgICAgICAgICAgICAgICBbNDEuOTQzMTYzMiwgLTg3LjY0NDUwNzFdLAogICAgICAgICAgICAgICAge30KICAgICAgICAgICAgKS5hZGRUbyhtYXBfMzE5M2E1NTk3Yzk2NGM4YTk3MzQ2YmRjNTE4NGUzMjcpOwogICAgICAgIAogICAgCiAgICAgICAgdmFyIHBvcHVwX2ZiYmM2YWU1OGIzMjQwOGRhN2Q4NWMzNGYyN2Q2ZTcxID0gTC5wb3B1cCh7Im1heFdpZHRoIjogIjEwMCUifSk7CgogICAgICAgIAogICAgICAgICAgICB2YXIgaHRtbF8xNDNmN2EwOTViMDI0ZmY1ODZlNjI1YWQ5YjE5N2MwNiA9ICQoYDxkaXYgaWQ9Imh0bWxfMTQzZjdhMDk1YjAyNGZmNTg2ZTYyNWFkOWIxOTdjMDYiIHN0eWxlPSJ3aWR0aDogMTAwLjAlOyBoZWlnaHQ6IDEwMC4wJTsiPlBob2ViZeKAmXMgQmFrZXJ5PC9kaXY+YClbMF07CiAgICAgICAgICAgIHBvcHVwX2ZiYmM2YWU1OGIzMjQwOGRhN2Q4NWMzNGYyN2Q2ZTcxLnNldENvbnRlbnQoaHRtbF8xNDNmN2EwOTViMDI0ZmY1ODZlNjI1YWQ5YjE5N2MwNik7CiAgICAgICAgCgogICAgICAgIG1hcmtlcl9lOTgxN2FiZGZhMDg0OGYzOWQ2YjU1YTM0MzAxNTJkNy5iaW5kUG9wdXAocG9wdXBfZmJiYzZhZTU4YjMyNDA4ZGE3ZDg1YzM0ZjI3ZDZlNzEpCiAgICAgICAgOwoKICAgICAgICAKICAgIAo8L3NjcmlwdD4= onload=\"this.contentDocument.open();this.contentDocument.write(atob(this.getAttribute('data-html')));this.contentDocument.close();\" allowfullscreen webkitallowfullscreen mozallowfullscreen></iframe></div></div>"
     },
     "metadata": {},
     "execution_count": 77
    }
   ],
   "source": [
    "mapping = folium.Map(location=[df2['Lattitude'].mean(), \n",
    "                            df2['Longitude'].mean()], zoom_start=11)\n",
    "\n",
    "for n in df2.index:\n",
    "    if df2['Address'][n].find(' ') != 0:\n",
    "        folium.Marker([df2['Lattitude'][n], df2['Longitude'][n]], \n",
    "                                      popup=df['Cafe'][n]).add_to(mapping)\n",
    "\n",
    "mapping"
   ]
  },
  {
   "cell_type": "code",
   "execution_count": 78,
   "metadata": {},
   "outputs": [],
   "source": [
    "df2.to_csv('chicago3.csv', sep=',', encoding='utf8')"
   ]
  },
  {
   "cell_type": "code",
   "execution_count": null,
   "metadata": {},
   "outputs": [],
   "source": []
  }
 ]
}